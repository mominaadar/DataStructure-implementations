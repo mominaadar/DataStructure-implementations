{
 "cells": [
  {
   "cell_type": "code",
   "execution_count": 3,
   "metadata": {},
   "outputs": [],
   "source": [
    "class Node:\n",
    "    def __init__(self, val=None):\n",
    "        self.val = val\n",
    "        self.next = None"
   ]
  },
  {
   "cell_type": "code",
   "execution_count": 4,
   "metadata": {},
   "outputs": [],
   "source": [
    "class Ring:\n",
    "    def __init__(self):\n",
    "        self.head = None"
   ]
  },
  {
   "cell_type": "code",
   "execution_count": 5,
   "metadata": {},
   "outputs": [],
   "source": [
    "def __str__(self):\n",
    "    ret_str = '['\n",
    "    \n",
    "    temp = self.head\n",
    "    while temp is not None:\n",
    "        ret_str = ret_str + str(temp.val) + \", \"\n",
    "        temp = temp.next\n",
    "        \n",
    "        if temp == self.head:\n",
    "            break\n",
    "            \n",
    "    ret_str = ret_str.rstrip(', ')\n",
    "    ret_str = ret_str + ']'\n",
    "    \n",
    "    return ret_str\n",
    "\n",
    "Ring.__str__ = __str__"
   ]
  },
  {
   "cell_type": "code",
   "execution_count": 6,
   "metadata": {},
   "outputs": [],
   "source": [
    "def _get_last(self):\n",
    "    temp = self.head\n",
    "    if temp is None:\n",
    "        return None\n",
    "    \n",
    "    if temp.next == self.head:\n",
    "        return self.head\n",
    "    \n",
    "    while temp.next != self.head:\n",
    "        temp = temp.next\n",
    "        \n",
    "    return temp\n",
    "\n",
    "Ring._get_last = _get_last"
   ]
  },
  {
   "cell_type": "code",
   "execution_count": 7,
   "metadata": {},
   "outputs": [],
   "source": [
    "def insert(self, index, val):\n",
    "    new_node = Node(val)\n",
    "    last = self._get_last()\n",
    "    \n",
    "    if index == 0:\n",
    "        new_node.next = self.head\n",
    "        self.head = new_node\n",
    "        \n",
    "        if last is None:\n",
    "            self.head.next = self.head\n",
    "        else:\n",
    "            last.next = new_node #self.head\n",
    "            \n",
    "        return\n",
    "    \n",
    "    temp = self.head\n",
    "    counter = 0\n",
    "    while temp is not None and counter < index:\n",
    "        prev = temp\n",
    "        temp = temp.next\n",
    "        counter += 1\n",
    "    \n",
    "    prev.next = new_node\n",
    "    new_node.next = temp\n",
    "    \n",
    "Ring.insert = insert"
   ]
  },
  {
   "cell_type": "code",
   "execution_count": 8,
   "metadata": {},
   "outputs": [
    {
     "name": "stdout",
     "output_type": "stream",
     "text": [
      "[2, 1, 7]\n"
     ]
    }
   ],
   "source": [
    "r = Ring()\n",
    "r.insert(0,1)\n",
    "r.insert(0,2)\n",
    "r.insert(8,7)\n",
    "print(r)"
   ]
  },
  {
   "cell_type": "code",
   "execution_count": 9,
   "metadata": {},
   "outputs": [],
   "source": [
    "def remove(self, val):\n",
    "    if self.head is None:\n",
    "        return\n",
    "    \n",
    "    last = self._get_last()\n",
    "    temp = self.head\n",
    "    \n",
    "    if temp.val == val:\n",
    "        if last == self.head:\n",
    "            self.head = None\n",
    "        else:\n",
    "            self.head = temp.next\n",
    "            last.next = self.head\n",
    "            \n",
    "        return\n",
    "    \n",
    "    prev = temp\n",
    "    temp = temp.next\n",
    "    while temp != self.head:\n",
    "        if temp.val == val:\n",
    "            break\n",
    "        prev = temp\n",
    "        temp = temp.next\n",
    "    \n",
    "    prev.next = temp.next\n",
    "        \n",
    "Ring.remove = remove"
   ]
  },
  {
   "cell_type": "code",
   "execution_count": 14,
   "metadata": {},
   "outputs": [
    {
     "name": "stdout",
     "output_type": "stream",
     "text": [
      "[1, 2, 3, 4]\n",
      "[4]\n"
     ]
    }
   ],
   "source": [
    "ring = Ring()\n",
    "ring.insert(0,1)\n",
    "ring.insert(1,2)\n",
    "ring.insert(2,3)\n",
    "ring.insert(3,4)\n",
    "print(ring)\n",
    "ring.remove(1)\n",
    "ring.remove(2)\n",
    "ring.remove(3)\n",
    "print(ring)"
   ]
  },
  {
   "cell_type": "code",
   "execution_count": null,
   "metadata": {},
   "outputs": [],
   "source": []
  },
  {
   "cell_type": "code",
   "execution_count": null,
   "metadata": {},
   "outputs": [],
   "source": []
  }
 ],
 "metadata": {
  "kernelspec": {
   "display_name": "Python 3",
   "language": "python",
   "name": "python3"
  },
  "language_info": {
   "codemirror_mode": {
    "name": "ipython",
    "version": 3
   },
   "file_extension": ".py",
   "mimetype": "text/x-python",
   "name": "python",
   "nbconvert_exporter": "python",
   "pygments_lexer": "ipython3",
   "version": "3.8.3"
  }
 },
 "nbformat": 4,
 "nbformat_minor": 4
}
