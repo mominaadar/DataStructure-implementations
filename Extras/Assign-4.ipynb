{
 "cells": [
  {
   "cell_type": "code",
   "execution_count": 2,
   "metadata": {},
   "outputs": [],
   "source": [
    "class Node:\n",
    "    def __init__(self, val=None):\n",
    "        self.val = val\n",
    "        self.next = None"
   ]
  },
  {
   "cell_type": "code",
   "execution_count": 3,
   "metadata": {},
   "outputs": [],
   "source": [
    "class Circle:\n",
    "    def __init__(self):\n",
    "        self.head = None"
   ]
  },
  {
   "cell_type": "code",
   "execution_count": 26,
   "metadata": {},
   "outputs": [],
   "source": [
    "def __str__(self):\n",
    "    #if self.head is None:\n",
    "        #return\n",
    "    \n",
    "    ret = '['\n",
    "    temp = self.head\n",
    "    \n",
    "    while temp:\n",
    "        ret += str(temp.val) + ', '\n",
    "        temp = temp.next\n",
    "        \n",
    "        if temp == self.head:\n",
    "            break\n",
    "        \n",
    "    ret = ret.rstrip(', ')\n",
    "    ret += ']'\n",
    "    \n",
    "    return ret\n",
    "\n",
    "Circle.__str__ = __str__"
   ]
  },
  {
   "cell_type": "code",
   "execution_count": 27,
   "metadata": {},
   "outputs": [],
   "source": [
    "def _get_last(self):\n",
    "    if self.head is None:\n",
    "        return \n",
    "    \n",
    "    temp = self.head.next\n",
    "    while temp.next != self.head:\n",
    "        temp = temp.next\n",
    "        \n",
    "    return temp\n",
    "\n",
    "Circle._get_last = _get_last"
   ]
  },
  {
   "cell_type": "code",
   "execution_count": 28,
   "metadata": {},
   "outputs": [],
   "source": [
    "def insert(self, index, val):\n",
    "    new_node = Node(val)\n",
    "    last = self._get_last()\n",
    "    \n",
    "    if self.head is None:\n",
    "        self.head = new_node\n",
    "        new_node.next = self.head\n",
    "        return\n",
    "    \n",
    "    if index == 0:\n",
    "        new_node.next = self.head\n",
    "        self.head = new_node\n",
    "        last.next = self.head\n",
    "        return\n",
    "    \n",
    "    temp = self.head\n",
    "    counter = 0\n",
    "    \n",
    "    while counter < index:\n",
    "        prev = temp\n",
    "        temp = temp.next\n",
    "        counter += 1\n",
    "    \n",
    "    if new_node.next == self.head:\n",
    "        self.head = new_node\n",
    "    else:\n",
    "        new_node.next = temp\n",
    "        prev.next = new_node\n",
    "    \n",
    "    #new_node.next = temp\n",
    "    #prev.next = new_node\n",
    "    \n",
    "    #if new_node.next == self.head:\n",
    "        #self.head = new_node\n",
    "        \n",
    "Circle.insert = insert"
   ]
  },
  {
   "cell_type": "code",
   "execution_count": 29,
   "metadata": {},
   "outputs": [
    {
     "name": "stdout",
     "output_type": "stream",
     "text": [
      "[1]\n",
      "[2, 1]\n",
      "[2, 9, 1]\n",
      "[2, 4, 9, 1]\n",
      "[2, 4, 9, 1, 50]\n"
     ]
    }
   ],
   "source": [
    "c = Circle()\n",
    "c.insert(0,1)\n",
    "print(c)\n",
    "c.insert(0,2)\n",
    "print(c)\n",
    "c.insert(1,9)\n",
    "print(c)\n",
    "c.insert(7,4)\n",
    "print(c)\n",
    "c.insert(4,50)\n",
    "print(c)"
   ]
  },
  {
   "cell_type": "code",
   "execution_count": 30,
   "metadata": {},
   "outputs": [],
   "source": [
    "def remove(self,val):\n",
    "    if self.head is None:\n",
    "        raise Exception('List is empty already')\n",
    "    \n",
    "    last = self._get_last()\n",
    "    temp = self.head\n",
    "    \n",
    "    if temp.val == val:\n",
    "        if last == self.head:\n",
    "            self.head = None\n",
    "        else:\n",
    "            temp = temp.next\n",
    "            self.head = temp\n",
    "            last.next = self.head\n",
    "        return\n",
    "    \n",
    "    prev = temp\n",
    "    temp = temp.next\n",
    "    \n",
    "    while temp != self.head:\n",
    "        if temp.val == val:\n",
    "            break\n",
    "        \n",
    "        prev = temp\n",
    "        temp = temp.next\n",
    "            \n",
    "    if temp == self.head:\n",
    "        return\n",
    "        \n",
    "    prev.next = temp.next\n",
    "    \n",
    "Circle.remove = remove"
   ]
  },
  {
   "cell_type": "code",
   "execution_count": 31,
   "metadata": {},
   "outputs": [
    {
     "name": "stdout",
     "output_type": "stream",
     "text": [
      "[2, 1, 6, 0]\n",
      "[1, 6, 0]\n"
     ]
    }
   ],
   "source": [
    "l = Circle()\n",
    "l.insert(7,1)\n",
    "#print(l)\n",
    "l.insert(0,2)\n",
    "#print(l)\n",
    "l.insert(8,6)\n",
    "#print(l)\n",
    "l.insert(3,0)\n",
    "print(l)\n",
    "l.remove(19)\n",
    "l.remove(2)\n",
    "print(l)"
   ]
  },
  {
   "cell_type": "code",
   "execution_count": 32,
   "metadata": {},
   "outputs": [],
   "source": [
    "def remove_at(self, index):\n",
    "    if self.head is None:\n",
    "        #raise Exception(\"List is empty already\")\n",
    "        return \n",
    "    \n",
    "    last = self._get_last()\n",
    "    temp = self.head\n",
    "    \n",
    "    if index == 0:\n",
    "        if self.head is None:\n",
    "            return\n",
    "        \n",
    "        if last == self.head:\n",
    "            self.head = None\n",
    "            \n",
    "        else:\n",
    "            temp = temp.next\n",
    "            self.head = temp\n",
    "            last.next = self.head\n",
    "        return\n",
    "    \n",
    "    temp = self.head\n",
    "    count = 0\n",
    "\n",
    "    while count < index:\n",
    "        prev = temp\n",
    "        temp = temp.next\n",
    "        count += 1\n",
    "        \n",
    "    if temp == self.head:\n",
    "        prev.next = temp.next\n",
    "        self.head = temp.next\n",
    "        \n",
    "    prev.next = temp.next\n",
    "\n",
    "Circle.remove_at = remove_at"
   ]
  },
  {
   "cell_type": "code",
   "execution_count": 33,
   "metadata": {},
   "outputs": [
    {
     "name": "stdout",
     "output_type": "stream",
     "text": [
      "[]\n"
     ]
    }
   ],
   "source": [
    "ls = Circle()\n",
    "ls.push(1)\n",
    "#ls.push(2)\n",
    "#ls.push(6)\n",
    "#ls.push(12)\n",
    "#ls.push(2)\n",
    "#print(ls)\n",
    "#ls.remove_at(0)\n",
    "ls.remove_at(0)\n",
    "print(ls)"
   ]
  },
  {
   "cell_type": "code",
   "execution_count": 12,
   "metadata": {},
   "outputs": [],
   "source": [
    "def length(self):\n",
    "    last = self._get_last()\n",
    "    \n",
    "    if self.head is None:\n",
    "        return\n",
    "    \n",
    "    temp = self.head\n",
    "    count = 0\n",
    "    while temp is not None:\n",
    "        temp = temp.next\n",
    "        count += 1\n",
    "        \n",
    "        if temp == self.head:\n",
    "            break\n",
    "    return count\n",
    "\n",
    "Circle.length = length"
   ]
  },
  {
   "cell_type": "code",
   "execution_count": 13,
   "metadata": {},
   "outputs": [],
   "source": [
    "def get(self, index):\n",
    "    if self.head is None:\n",
    "        raise IndexError('List is empty')\n",
    "        \n",
    "    if index == 0:\n",
    "        return self.head.val\n",
    "    \n",
    "    temp = self.head\n",
    "    count = 0\n",
    "    while count < index:\n",
    "        temp = temp.next\n",
    "        count += 1\n",
    "        \n",
    "    return temp.val\n",
    "\n",
    "Circle.get = get"
   ]
  },
  {
   "cell_type": "code",
   "execution_count": 14,
   "metadata": {},
   "outputs": [],
   "source": [
    "#### USE INSERT AND LENGTH ####\n",
    "def push(self,val):\n",
    "    if self.head is None:\n",
    "        self.insert(0,val)\n",
    "        return\n",
    "    else:\n",
    "        length = self.length()\n",
    "        \n",
    "    count = 0\n",
    "    temp = self.head\n",
    "    while count < length:\n",
    "        temp = temp.next \n",
    "        count += 1\n",
    "    self.insert(count,val)\n",
    "    \n",
    "Circle.push = push        "
   ]
  },
  {
   "cell_type": "code",
   "execution_count": 15,
   "metadata": {},
   "outputs": [],
   "source": [
    "######## USE GET, LEN, REMOVE_AT ######\n",
    "def pop(self):\n",
    "    if self.head is None:\n",
    "        return\n",
    "    else:\n",
    "        length = self.length()\n",
    "    \n",
    "    temp = self.head\n",
    "    count = 0\n",
    "    \n",
    "    while count < length:\n",
    "        temp = temp.next\n",
    "        count += 1\n",
    "        \n",
    "    print(self.get(length-1))\n",
    "    self.remove_at(count-1)\n",
    "    \n",
    "Circle.pop = pop"
   ]
  },
  {
   "cell_type": "code",
   "execution_count": 35,
   "metadata": {},
   "outputs": [
    {
     "name": "stdout",
     "output_type": "stream",
     "text": [
      "1\n",
      "[]\n"
     ]
    }
   ],
   "source": [
    "lst = Circle()\n",
    "lst.push(1)\n",
    "#lst.push(2)\n",
    "#lst.push(3)\n",
    "#lst.push(4)\n",
    "#lst.push(5)\n",
    "#lst.push(9)\n",
    "#print(lst)\n",
    "lst.pop()\n",
    "lst.pop()\n",
    "print(lst)"
   ]
  },
  {
   "cell_type": "code",
   "execution_count": null,
   "metadata": {},
   "outputs": [],
   "source": []
  },
  {
   "cell_type": "code",
   "execution_count": null,
   "metadata": {},
   "outputs": [],
   "source": []
  }
 ],
 "metadata": {
  "kernelspec": {
   "display_name": "Python 3",
   "language": "python",
   "name": "python3"
  },
  "language_info": {
   "codemirror_mode": {
    "name": "ipython",
    "version": 3
   },
   "file_extension": ".py",
   "mimetype": "text/x-python",
   "name": "python",
   "nbconvert_exporter": "python",
   "pygments_lexer": "ipython3",
   "version": "3.8.3"
  }
 },
 "nbformat": 4,
 "nbformat_minor": 4
}
