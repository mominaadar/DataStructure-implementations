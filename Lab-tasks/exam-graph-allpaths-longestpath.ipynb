{
 "cells": [
  {
   "cell_type": "code",
   "execution_count": 17,
   "metadata": {},
   "outputs": [],
   "source": [
    "class Digraph:\n",
    "    def __init__(self):\n",
    "        self.g = {}"
   ]
  },
  {
   "cell_type": "code",
   "execution_count": 18,
   "metadata": {},
   "outputs": [],
   "source": [
    "def add_node(self,node):\n",
    "    if node in self.g:\n",
    "        raise ValueError('Already exists')\n",
    "    \n",
    "    self.g[node] = []\n",
    "    \n",
    "Digraph.add_node = add_node"
   ]
  },
  {
   "cell_type": "code",
   "execution_count": 19,
   "metadata": {},
   "outputs": [],
   "source": [
    "def add_edge(self,src,dest):\n",
    "    if src not in self.g and dest not in self.g:\n",
    "        raise ValueError(\"Source/Destination doesn't exist\")\n",
    "        \n",
    "    children = self.g[src]\n",
    "    \n",
    "    if dest not in children:\n",
    "        children.append(dest)\n",
    "        \n",
    "Digraph.add_edge = add_edge"
   ]
  },
  {
   "cell_type": "code",
   "execution_count": 20,
   "metadata": {},
   "outputs": [],
   "source": [
    "g = Digraph()\n",
    "nodes = ['Islamabad','Peshawar','Multan','Gujranwala','Lahore','Faisalabad','Sukkur','Hyderabad','Karachi','Bannu','Quetta','Mianwali']\n",
    "\n",
    "for i in nodes:\n",
    "    g.add_node(i)\n",
    "    \n",
    "edges = [ ['Islamabad','Peshawar'],['Islamabad','Multan'],['Peshawar','Gujranwala'],['Gujranwala','Lahore'],['Gujranwala','Faisalabad'],['Lahore','Multan'],['Lahore','Faisalabad'],['Faisalabad','Multan'],['Multan','Sukkur'],['Sukkur','Hyderabad'],['Hyderabad','Karachi'],['Peshawar','Bannu'],['Bannu','Quetta'],['Quetta','Sukkur'],['Quetta','Karachi'],['Quetta','Faisalabad'],['Peshawar','Mianwali'],['Mianwali','Multan'],['Mianwali','Karachi'],['Islamabad','Gujranwala'],['Islamabad','Lahore'] ]\n",
    "\n",
    "for j in edges:\n",
    "    g.add_edge(j[0],j[1])"
   ]
  },
  {
   "cell_type": "code",
   "execution_count": 21,
   "metadata": {},
   "outputs": [
    {
     "name": "stdout",
     "output_type": "stream",
     "text": [
      "{'Bannu': ['Quetta'],\n",
      " 'Faisalabad': ['Multan'],\n",
      " 'Gujranwala': ['Lahore', 'Faisalabad'],\n",
      " 'Hyderabad': ['Karachi'],\n",
      " 'Islamabad': ['Peshawar', 'Multan', 'Gujranwala', 'Lahore'],\n",
      " 'Karachi': [],\n",
      " 'Lahore': ['Multan', 'Faisalabad'],\n",
      " 'Mianwali': ['Multan', 'Karachi'],\n",
      " 'Multan': ['Sukkur'],\n",
      " 'Peshawar': ['Gujranwala', 'Bannu', 'Mianwali'],\n",
      " 'Quetta': ['Sukkur', 'Karachi', 'Faisalabad'],\n",
      " 'Sukkur': ['Hyderabad']}\n"
     ]
    }
   ],
   "source": [
    "import pprint\n",
    "pprint.pprint(g.g)"
   ]
  },
  {
   "cell_type": "code",
   "execution_count": 22,
   "metadata": {},
   "outputs": [],
   "source": [
    "def shortest_path(self,src,dest,path=[]):\n",
    "    if src not in self.g and dest not in self.g:\n",
    "        raise ValueError(\"Doesn't exist\")\n",
    "        \n",
    "    path = path + [src]\n",
    "    \n",
    "    if src == dest:\n",
    "        return path\n",
    "    \n",
    "    \n",
    "    shortest = None\n",
    "    \n",
    "    for node in self.g[src]:\n",
    "        if node not in path:\n",
    "            new_path = self.shortest_path(node,dest,path)\n",
    "            if new_path:\n",
    "                if shortest is None or len(new_path) < len(shortest):\n",
    "                    shortest = new_path\n",
    "                    \n",
    "    return shortest\n",
    "Digraph.shortest_path = shortest_path"
   ]
  },
  {
   "cell_type": "code",
   "execution_count": 24,
   "metadata": {},
   "outputs": [
    {
     "data": {
      "text/plain": [
       "['Peshawar', 'Mianwali', 'Karachi']"
      ]
     },
     "execution_count": 24,
     "metadata": {},
     "output_type": "execute_result"
    }
   ],
   "source": [
    "g.shortest_path('Peshawar','Karachi')"
   ]
  },
  {
   "cell_type": "code",
   "execution_count": 26,
   "metadata": {},
   "outputs": [],
   "source": [
    "def all_shortest_paths(self,src):\n",
    "    if src not in self.g and dest not in self.g:\n",
    "        raise ValueError(\"Doesn't exist\")\n",
    "   \n",
    "    all_paths = []\n",
    "        \n",
    "    for i in nodes:\n",
    "        if src != i:\n",
    "            path = self.shortest_path(src,i)\n",
    "            if path is not None:\n",
    "                all_paths.append(path)\n",
    "\n",
    "    return all_paths\n",
    "Digraph.all_shortest_paths = all_shortest_paths"
   ]
  },
  {
   "cell_type": "code",
   "execution_count": 32,
   "metadata": {},
   "outputs": [],
   "source": [
    "def most_cities_visited_path(self,all_path):\n",
    "    \n",
    "    shortest = all_path[0]\n",
    "    for n in all_path:\n",
    "        if len(n) > len(shortest):\n",
    "            most_cities = n\n",
    "            \n",
    "    return most_cities\n",
    "    \n",
    "Digraph.most_cities_visited_path = most_cities_visited_path"
   ]
  },
  {
   "cell_type": "code",
   "execution_count": 36,
   "metadata": {},
   "outputs": [
    {
     "data": {
      "text/plain": [
       "[['Gujranwala', 'Lahore', 'Multan'],\n",
       " ['Gujranwala', 'Lahore'],\n",
       " ['Gujranwala', 'Faisalabad'],\n",
       " ['Gujranwala', 'Lahore', 'Multan', 'Sukkur'],\n",
       " ['Gujranwala', 'Lahore', 'Multan', 'Sukkur', 'Hyderabad'],\n",
       " ['Gujranwala', 'Lahore', 'Multan', 'Sukkur', 'Hyderabad', 'Karachi']]"
      ]
     },
     "execution_count": 36,
     "metadata": {},
     "output_type": "execute_result"
    }
   ],
   "source": [
    "g.all_shortest_paths('Gujranwala')"
   ]
  },
  {
   "cell_type": "code",
   "execution_count": 35,
   "metadata": {},
   "outputs": [
    {
     "data": {
      "text/plain": [
       "['Gujranwala', 'Lahore', 'Multan', 'Sukkur', 'Hyderabad', 'Karachi']"
      ]
     },
     "execution_count": 35,
     "metadata": {},
     "output_type": "execute_result"
    }
   ],
   "source": [
    "g.most_cities_visited_path(g.all_shortest_paths('Gujranwala'))"
   ]
  },
  {
   "cell_type": "code",
   "execution_count": null,
   "metadata": {},
   "outputs": [],
   "source": []
  }
 ],
 "metadata": {
  "kernelspec": {
   "display_name": "Python 3",
   "language": "python",
   "name": "python3"
  },
  "language_info": {
   "codemirror_mode": {
    "name": "ipython",
    "version": 3
   },
   "file_extension": ".py",
   "mimetype": "text/x-python",
   "name": "python",
   "nbconvert_exporter": "python",
   "pygments_lexer": "ipython3",
   "version": "3.6.5"
  }
 },
 "nbformat": 4,
 "nbformat_minor": 2
}
