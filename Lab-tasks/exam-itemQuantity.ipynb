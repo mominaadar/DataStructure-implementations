{
 "cells": [
  {
   "cell_type": "code",
   "execution_count": 78,
   "metadata": {},
   "outputs": [],
   "source": [
    "class ItemQuantity:\n",
    "    def __init__(self,name,quantity):\n",
    "        self.name = name\n",
    "        self.quantity = quantity"
   ]
  },
  {
   "cell_type": "code",
   "execution_count": 79,
   "metadata": {},
   "outputs": [],
   "source": [
    "q1 = ItemQuantity('Item 1',8)\n",
    "q2 = ItemQuantity('Item 2',1)\n",
    "q3 = ItemQuantity('Item 3',5)\n",
    "q4 = ItemQuantity('Item 4',3)\n",
    "q5 = ItemQuantity('Item 5',11)\n",
    "q6 = ItemQuantity('Item 6',2)\n",
    "q7 = ItemQuantity('Item 7',1)\n",
    "q8 = ItemQuantity('Item 8',10)\n",
    "q9 = ItemQuantity('Item 9',13)\n",
    "q10 = ItemQuantity('Item 10',4)"
   ]
  },
  {
   "cell_type": "code",
   "execution_count": 80,
   "metadata": {},
   "outputs": [],
   "source": [
    "def heapify(lst,n,root):\n",
    "    largest = root\n",
    "    l = 2*root + 1\n",
    "    r = 2*root + 2\n",
    "    \n",
    "    if l<n and lst[l] > lst[largest]:\n",
    "        largest = l\n",
    "        \n",
    "    if r<n and lst[r] > lst[largest]:\n",
    "        largest = r\n",
    "        \n",
    "    if largest != root:\n",
    "        lst[largest], lst[root] = lst[root], lst[largest]\n",
    "        heapify(lst,n,largest)"
   ]
  },
  {
   "cell_type": "code",
   "execution_count": 81,
   "metadata": {},
   "outputs": [],
   "source": [
    "def build_heap(lst):\n",
    "    n = len(lst)\n",
    "    \n",
    "    for i in reversed(range(n//2)):\n",
    "        heapify(lst, n, i)"
   ]
  },
  {
   "cell_type": "code",
   "execution_count": 82,
   "metadata": {},
   "outputs": [
    {
     "name": "stdout",
     "output_type": "stream",
     "text": [
      "[8, 1, 5, 3, 11, 2, 1, 10, 13, 4]\n",
      "[13, 11, 5, 10, 8, 2, 1, 1, 3, 4]\n"
     ]
    }
   ],
   "source": [
    "amount = []\n",
    "heap = [q1,q2,q3,q4,q5,q6,q7,q8,q9,q10]\n",
    "\n",
    "for i in range(len(heap)):\n",
    "    amount.append(heap[i].quantity)\n",
    "\n",
    "print(amount)\n",
    "build_heap(amount)\n",
    "print(amount)"
   ]
  }
 ],
 "metadata": {
  "kernelspec": {
   "display_name": "Python 3",
   "language": "python",
   "name": "python3"
  },
  "language_info": {
   "codemirror_mode": {
    "name": "ipython",
    "version": 3
   },
   "file_extension": ".py",
   "mimetype": "text/x-python",
   "name": "python",
   "nbconvert_exporter": "python",
   "pygments_lexer": "ipython3",
   "version": "3.6.5"
  }
 },
 "nbformat": 4,
 "nbformat_minor": 2
}
