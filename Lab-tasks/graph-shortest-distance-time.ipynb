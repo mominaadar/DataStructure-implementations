{
 "cells": [
  {
   "cell_type": "code",
   "execution_count": 10,
   "metadata": {},
   "outputs": [],
   "source": [
    "class Weighted:\n",
    "    def __init__(self):\n",
    "        self.g = {}\n",
    "        \n",
    "    \n",
    "    def add_node(self,node):\n",
    "        if node in self.g:\n",
    "            raise ValueError(\"Node already present in!\")\n",
    "            \n",
    "        self.g[node] = []\n",
    "        \n",
    "        \n",
    "    def add_edge(self,src,dest,minutes,distance):\n",
    "        if src not in self.g and dest not in self.g:\n",
    "            raise ValueError(\"Source/Destination not found\")\n",
    "            \n",
    "        next_nodes = self.g[src]\n",
    "        \n",
    "        if dest in next_nodes:\n",
    "            return\n",
    "        \n",
    "        self.g[src].append((dest,minutes,distance))"
   ]
  },
  {
   "cell_type": "code",
   "execution_count": 11,
   "metadata": {},
   "outputs": [],
   "source": [
    "w = Weighted()\n",
    "w.add_node('Isd')\n",
    "w.add_node('Pwr')\n",
    "w.add_node('Grw')\n",
    "w.add_node('Lhr')\n",
    "w.add_node('Fsd')\n",
    "w.add_node('Mlt')\n",
    "w.add_node('Skr')\n",
    "w.add_node('Hyd')\n",
    "w.add_node('Khi')\n",
    "w.add_node('Bannu')\n",
    "w.add_node('Qta')\n",
    "w.add_node('Mianw')"
   ]
  },
  {
   "cell_type": "code",
   "execution_count": 12,
   "metadata": {},
   "outputs": [],
   "source": [
    "w.add_edge('Isd','Pwr',140,180)\n",
    "w.add_edge('Pwr','Grw',360,390)\n",
    "w.add_edge('Grw','Lhr',130,96)\n",
    "w.add_edge('Grw','Fsd',200,174)\n",
    "w.add_edge('Lhr','Mlt',260,345)\n",
    "w.add_edge('Fsd','Mult',200,240)\n",
    "w.add_edge('Mlt','Skr',400,440)\n",
    "w.add_edge('Skr','Hyd',290,330)\n",
    "w.add_edge('Hyd','Khi',160,162)\n",
    "w.add_edge('Pwr','Bannu',200,174)\n",
    "w.add_edge('Bannu','Qta',660,683)\n",
    "w.add_edge('Qta','Skr',320,390)\n",
    "w.add_edge('Pwr','Mianw',290,240)\n",
    "w.add_edge('Mianw','Mlt',320,299)\n",
    "w.add_edge('Isd','Grw',230,220)\n",
    "w.add_edge('Isd','Lhr',260,375)"
   ]
  },
  {
   "cell_type": "code",
   "execution_count": 13,
   "metadata": {},
   "outputs": [
    {
     "name": "stdout",
     "output_type": "stream",
     "text": [
      "{'Bannu': [('Qta', 660, 683)],\n",
      " 'Fsd': [('Mult', 200, 240)],\n",
      " 'Grw': [('Lhr', 130, 96), ('Fsd', 200, 174)],\n",
      " 'Hyd': [('Khi', 160, 162)],\n",
      " 'Isd': [('Pwr', 140, 180), ('Grw', 230, 220), ('Lhr', 260, 375)],\n",
      " 'Khi': [],\n",
      " 'Lhr': [('Mlt', 260, 345)],\n",
      " 'Mianw': [('Mlt', 320, 299)],\n",
      " 'Mlt': [('Skr', 400, 440)],\n",
      " 'Pwr': [('Grw', 360, 390), ('Bannu', 200, 174), ('Mianw', 290, 240)],\n",
      " 'Qta': [('Skr', 320, 390)],\n",
      " 'Skr': [('Hyd', 290, 330)]}\n"
     ]
    }
   ],
   "source": [
    "import pprint\n",
    "pprint.pprint(w.g)"
   ]
  },
  {
   "cell_type": "code",
   "execution_count": 21,
   "metadata": {},
   "outputs": [],
   "source": [
    "def find_shortest_dijkstra(self, src, dest): \n",
    "    # Mark all nodes unvisited and store them.\n",
    "    to_visit = list( self.g.keys() ) \n",
    "    \n",
    "    #print(\"To visit: \" + str(to_visit))\n",
    "\n",
    "    # Set the distance to zero for our initial node and to infinity for other nodes. \n",
    "    inf = float('inf')   # that's python for infinity \n",
    "    dists = { node: inf for node in to_visit }\n",
    "    dists[src] = 0 \n",
    "#     print(\"All distances\" + str(dists))\n",
    "    \n",
    "    \n",
    "    best_paths = {} \n",
    "    best_paths[(src, src)] = [src]  # no move \n",
    "    \n",
    "    # let's loop \n",
    "    while to_visit: \n",
    "        #print('--')\n",
    "        \n",
    "        # Select the unvisited node with the smallest distance\n",
    "        # can't compare 'a' with 'b'. So, we compare dists['a'] with dists['b']\n",
    "        current = min(to_visit, key=lambda node: dists[node])   \n",
    "        #print(\"Current: \" + current)\n",
    "        \n",
    "        # check to make sure min distance isn't infinity \n",
    "        if dists[current] == inf: \n",
    "            break \n",
    "    \n",
    "        # Find unvisited neighbors for the current node \n",
    "        nexts = self.g[current]\n",
    "        unvisited_neighbors = [] \n",
    "        for n in nexts: \n",
    "            if n[0] in to_visit:    # recall that n is e.g. ('b', 5)\n",
    "                unvisited_neighbors.append(n)\n",
    "        \n",
    "        #print(\"Unvisited neighbors of \" + current + \": \" + str(unvisited_neighbors))        \n",
    "        # calculate their distances through the current node\n",
    "        for n in unvisited_neighbors: \n",
    "            label = n[0]\n",
    "            dist_to = n[1]\n",
    "            #total_dist = n[2]\n",
    "            #print(total_dist)\n",
    "\n",
    "            \n",
    "            # get old best distance and new distance \n",
    "            old_distance = dists[label]\n",
    "            new_distance = dists[current] + dist_to\n",
    "            \n",
    "            # see if we are improving on old best \n",
    "            if new_distance < old_distance: \n",
    "                #print(\"\\nFound new best path ...\")\n",
    "                dists[label] = new_distance \n",
    "                \n",
    "                \n",
    "                # also save path \n",
    "                # best way to get from src to label is src->current->label \n",
    "                path_to_current = best_paths[(src, current)][:]   # need a copy \n",
    "                best_paths[(src, label)] = path_to_current\n",
    "                best_paths[(src, label)].append(label)\n",
    "                #print(\"Previous best path to current: \", best_paths[(src, current)])\n",
    "                #print(\"Best path to:\", label, \": \", best_paths[(src, label)])\n",
    "\n",
    "        \n",
    "        #print(\"All distances\" + str(dists))\n",
    "        \n",
    "        # current is now visited \n",
    "        to_visit.remove(current)\n",
    "        \n",
    "        # break         # break after each iteration for demo \n",
    "    shortest_kms = self.get_distance(best_paths[(src,dest)])\n",
    "        \n",
    "    return str(best_paths[(src, dest)]) + \" Time Taken: \" + str(dists[dest]) + \", Shortest Distance: \" + str(shortest_kms)\n",
    "\n",
    "\n",
    "Weighted.find_shortest_dijkstra = find_shortest_dijkstra"
   ]
  },
  {
   "cell_type": "code",
   "execution_count": 22,
   "metadata": {},
   "outputs": [],
   "source": [
    "def get_distance(self,path):\n",
    "    dist = 0\n",
    "    for i in range(len(path)):\n",
    "            \n",
    "        city = path[i]\n",
    "        next_cities = self.g[city]\n",
    "        \n",
    "        for j in range(len(next_cities)):\n",
    "            if path[i+1] == next_cities[j][0]:  \n",
    "                dist = dist + next_cities[j][2]\n",
    "            else:\n",
    "                continue\n",
    "    \n",
    "    return dist\n",
    "        \n",
    "Weighted.get_distance = get_distance"
   ]
  },
  {
   "cell_type": "code",
   "execution_count": 23,
   "metadata": {},
   "outputs": [
    {
     "data": {
      "text/plain": [
       "\"['Isd', 'Lhr', 'Mlt', 'Skr', 'Hyd', 'Khi'] Time Taken: 1370, Shortest Distance: 1652\""
      ]
     },
     "execution_count": 23,
     "metadata": {},
     "output_type": "execute_result"
    }
   ],
   "source": [
    "w.find_shortest_dijkstra('Isd','Khi')"
   ]
  },
  {
   "cell_type": "code",
   "execution_count": null,
   "metadata": {},
   "outputs": [],
   "source": []
  },
  {
   "cell_type": "code",
   "execution_count": null,
   "metadata": {},
   "outputs": [],
   "source": []
  }
 ],
 "metadata": {
  "kernelspec": {
   "display_name": "Python 3",
   "language": "python",
   "name": "python3"
  },
  "language_info": {
   "codemirror_mode": {
    "name": "ipython",
    "version": 3
   },
   "file_extension": ".py",
   "mimetype": "text/x-python",
   "name": "python",
   "nbconvert_exporter": "python",
   "pygments_lexer": "ipython3",
   "version": "3.6.5"
  }
 },
 "nbformat": 4,
 "nbformat_minor": 2
}
