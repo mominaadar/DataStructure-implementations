{
 "cells": [
  {
   "cell_type": "code",
   "execution_count": 1,
   "metadata": {},
   "outputs": [],
   "source": [
    "class Node:\n",
    "    def __init__(self, val=None):\n",
    "        self.val = val\n",
    "        self.next = None\n",
    "        self.prev = None"
   ]
  },
  {
   "cell_type": "code",
   "execution_count": 2,
   "metadata": {},
   "outputs": [],
   "source": [
    "class DoublyList:\n",
    "    def __init__(self):\n",
    "        self.head = None"
   ]
  },
  {
   "cell_type": "code",
   "execution_count": 3,
   "metadata": {},
   "outputs": [],
   "source": [
    "def push(self, val):\n",
    "    new_node = Node(val)\n",
    "    \n",
    "    if self.head is None:\n",
    "        self.head = new_node\n",
    "        return \n",
    "    \n",
    "    last = self.head\n",
    "    while last.next is not None:\n",
    "        last = last.next\n",
    "        \n",
    "    last.next = new_node\n",
    "    new_node.prev = last\n",
    "    \n",
    "DoublyList.push = push"
   ]
  },
  {
   "cell_type": "code",
   "execution_count": 4,
   "metadata": {},
   "outputs": [],
   "source": [
    "def pop(self):\n",
    "    if self.head is None:\n",
    "        raise Exception('List is already empty')\n",
    "        \n",
    "    if self.head.next is None:\n",
    "        val = self.head.val\n",
    "        self.head = None\n",
    "        return val\n",
    "    \n",
    "    temp = self.head\n",
    "    while temp.next is not None:\n",
    "        prev = temp\n",
    "        temp = temp.next\n",
    "        \n",
    "    val = temp.val\n",
    "    prev.next = None\n",
    "    temp.prev = None\n",
    "    return val\n",
    "\n",
    "DoublyList.pop = pop"
   ]
  },
  {
   "cell_type": "code",
   "execution_count": 5,
   "metadata": {},
   "outputs": [],
   "source": [
    "def __str__(self):\n",
    "    ret_str = '['\n",
    "    temp = self.head\n",
    "    while temp:\n",
    "        ret_str += str(temp.val) + \", \"\n",
    "        temp = temp.next\n",
    "        \n",
    "    ret_str = ret_str.rstrip(', ')\n",
    "    ret_str = ret_str + ']'\n",
    "    return ret_str\n",
    "\n",
    "DoublyList.__str__ = __str__"
   ]
  },
  {
   "cell_type": "code",
   "execution_count": 6,
   "metadata": {},
   "outputs": [],
   "source": [
    "def insert(self, index, val):\n",
    "    new_node = Node(val)\n",
    "    \n",
    "    if index == 0:\n",
    "        new_node.next = self.head\n",
    "        self.head.prev = new_node\n",
    "        self.head = new_node\n",
    "        return\n",
    "    \n",
    "    temp = self.head\n",
    "    counter = 0\n",
    "    while temp is not None and counter < index:\n",
    "        prev = temp\n",
    "        temp = temp.next\n",
    "        counter += 1\n",
    "        \n",
    "    prev.next = new_node\n",
    "    new_node.prev = prev\n",
    "    new_node.next = temp\n",
    "        \n",
    "    if temp is not None:    \n",
    "        temp.prev = new_node\n",
    "    \n",
    "DoublyList.insert = insert"
   ]
  },
  {
   "cell_type": "code",
   "execution_count": 8,
   "metadata": {},
   "outputs": [],
   "source": [
    "def remove(self, index):\n",
    "    if self.head is None:\n",
    "        raise Exception('List is empty.')\n",
    "        \n",
    "    temp = self.head\n",
    "    if index == 0:\n",
    "        self.head = temp.next\n",
    "        self.head.prev = None\n",
    "        return\n",
    "    \n",
    "    counter = 0\n",
    "    while temp is not None and counter<index:    \n",
    "        prev = temp\n",
    "        temp= temp.next\n",
    "        counter += 1\n",
    "    \n",
    "    if temp is not None:\n",
    "        prev.next = temp.next\n",
    "    \n",
    "DoublyList.remove = remove"
   ]
  },
  {
   "cell_type": "code",
   "execution_count": 9,
   "metadata": {},
   "outputs": [],
   "source": [
    "def length(self):\n",
    "    temp = self.head\n",
    "    counter = 0\n",
    "    while temp:\n",
    "        temp = temp.next\n",
    "        counter += 1\n",
    "        \n",
    "    return counter\n",
    "\n",
    "DoublyList.length = length"
   ]
  },
  {
   "cell_type": "code",
   "execution_count": 10,
   "metadata": {},
   "outputs": [],
   "source": [
    "def get(self,index):\n",
    "        \n",
    "    if index == 0:\n",
    "        return self.head.val\n",
    "        \n",
    "        \n",
    "    temp = self.head\n",
    "    count = 0\n",
    "    \n",
    "    while temp is not None and count<index:\n",
    "        temp = temp.next\n",
    "        count += 1\n",
    "\n",
    "        if count == index:\n",
    "            if temp is not None:\n",
    "                return temp.val\n",
    "            else:\n",
    "                raise Exception('Index not found')\n",
    "            \n",
    "    if count != index:\n",
    "        raise Exception('Index not found')\n",
    "                \n",
    "DoublyList.get = get"
   ]
  },
  {
   "cell_type": "code",
   "execution_count": 14,
   "metadata": {},
   "outputs": [
    {
     "name": "stdout",
     "output_type": "stream",
     "text": [
      "[2, 54, 23, 34]\n",
      "[54, 23, 34]\n"
     ]
    },
    {
     "data": {
      "text/plain": [
       "54"
      ]
     },
     "execution_count": 14,
     "metadata": {},
     "output_type": "execute_result"
    }
   ],
   "source": [
    "l = DoublyList()\n",
    "l.push(2)\n",
    "l.push(54)\n",
    "l.push(23)\n",
    "l.insert(7,34)\n",
    "print(l)\n",
    "l.remove(0)\n",
    "print(l)\n",
    "l.get(0)"
   ]
  },
  {
   "cell_type": "code",
   "execution_count": null,
   "metadata": {},
   "outputs": [],
   "source": []
  },
  {
   "cell_type": "code",
   "execution_count": null,
   "metadata": {},
   "outputs": [],
   "source": []
  }
 ],
 "metadata": {
  "kernelspec": {
   "display_name": "Python 3",
   "language": "python",
   "name": "python3"
  },
  "language_info": {
   "codemirror_mode": {
    "name": "ipython",
    "version": 3
   },
   "file_extension": ".py",
   "mimetype": "text/x-python",
   "name": "python",
   "nbconvert_exporter": "python",
   "pygments_lexer": "ipython3",
   "version": "3.7.3"
  }
 },
 "nbformat": 4,
 "nbformat_minor": 2
}
