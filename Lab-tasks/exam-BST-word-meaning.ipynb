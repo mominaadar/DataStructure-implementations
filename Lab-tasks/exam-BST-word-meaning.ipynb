{
 "cells": [
  {
   "cell_type": "code",
   "execution_count": 1,
   "metadata": {},
   "outputs": [],
   "source": [
    "def print_tree(tree, level=0, label='.'): \n",
    "    print(' ' * (level*2) + label + ':', tree.word)\n",
    "    for child, lbl in zip([tree.left, tree.right], ['L', 'R']):  # do for all children \n",
    "        if child is not None:\n",
    "            print_tree(child, level+1, lbl)"
   ]
  },
  {
   "cell_type": "code",
   "execution_count": 2,
   "metadata": {},
   "outputs": [],
   "source": [
    "class TreeNode:\n",
    "    def __init__(self,word,meaning):\n",
    "        self.word = word\n",
    "        self.meaning = meaning\n",
    "        self.left = None\n",
    "        self.right = None"
   ]
  },
  {
   "cell_type": "code",
   "execution_count": 3,
   "metadata": {},
   "outputs": [],
   "source": [
    "class BST(TreeNode):\n",
    "    def __init__(self,word,meaning,parent=None):\n",
    "        super().__init__(word,meaning)\n",
    "        self.parent = parent"
   ]
  },
  {
   "cell_type": "code",
   "execution_count": 4,
   "metadata": {},
   "outputs": [],
   "source": [
    "def insert(self,word,meaning):\n",
    "    \n",
    "    for i in range(0,len(word)):\n",
    "        ch1 = word[i]\n",
    "        ch2 = self.word[i]\n",
    "        \n",
    "        if ch1 == ch2:\n",
    "            continue\n",
    "        else:\n",
    "            break\n",
    "    \n",
    "    if ord(ch1) < ord(ch2):\n",
    "        if self.left is None:\n",
    "            self.left = BST(word,meaning,parent=self)\n",
    "            \n",
    "        else:\n",
    "            self.left.insert(word,meaning)\n",
    "        \n",
    "    if ord(ch1) > ord(ch2):\n",
    "        if self.right is None:\n",
    "            self.right = BST(word,meaning,parent=self)\n",
    "        \n",
    "        else:\n",
    "            self.right.insert(word,meaning)\n",
    "            \n",
    "BST.insert = insert"
   ]
  },
  {
   "cell_type": "code",
   "execution_count": 5,
   "metadata": {},
   "outputs": [
    {
     "name": "stdout",
     "output_type": "stream",
     "text": [
      ".: consider\n",
      "  L: accord\n",
      "    R: commit\n",
      "      L: approach\n",
      "        L: apparent\n",
      "  R: minute\n",
      "    L: evident\n",
      "      L: establish\n",
      "      R: intend\n",
      "    R: practice\n",
      "      L: obtain\n",
      "      R: utter\n",
      "        L: scarce\n",
      "          R: straight\n"
     ]
    }
   ],
   "source": [
    "b = BST('consider','deem to be')\n",
    "b.insert('minute','small')\n",
    "b.insert('accord','concurrence of opinion')\n",
    "b.insert('evident','clearly revealed to the mind')\n",
    "b.insert('practice','a customary way of operation')\n",
    "b.insert('intend','have in mind as a purpose')\n",
    "b.insert('commit','perform an act')\n",
    "b.insert('approach','move towards')\n",
    "b.insert('establish','set up or found')\n",
    "b.insert('utter','without qualification')\n",
    "b.insert('obtain','come into possession of')\n",
    "b.insert('scarce','deficient in quantity')\n",
    "b.insert('straight','successive, without a break')\n",
    "b.insert('apparent','clearly revealed to the mind')\n",
    "\n",
    "print_tree(b)"
   ]
  },
  {
   "cell_type": "code",
   "execution_count": 6,
   "metadata": {},
   "outputs": [],
   "source": [
    "def search_word(self,word):\n",
    "    meaning = None\n",
    "    \n",
    "    if self.word == word:\n",
    "        return self.meaning\n",
    "    \n",
    "    if self.right:\n",
    "        meaning = self.right.search_word(word)\n",
    "        return meaning\n",
    "        \n",
    "    if self.left:\n",
    "        meaning = self.left.search_word(word)\n",
    "        return meaning\n",
    "    \n",
    "    return str(meaning)\n",
    "    \n",
    "BST.search_word = search_word"
   ]
  },
  {
   "cell_type": "code",
   "execution_count": 7,
   "metadata": {},
   "outputs": [
    {
     "data": {
      "text/plain": [
       "'without qualification'"
      ]
     },
     "execution_count": 7,
     "metadata": {},
     "output_type": "execute_result"
    }
   ],
   "source": [
    "b.search_word('utter')"
   ]
  }
 ],
 "metadata": {
  "kernelspec": {
   "display_name": "Python 3",
   "language": "python",
   "name": "python3"
  },
  "language_info": {
   "codemirror_mode": {
    "name": "ipython",
    "version": 3
   },
   "file_extension": ".py",
   "mimetype": "text/x-python",
   "name": "python",
   "nbconvert_exporter": "python",
   "pygments_lexer": "ipython3",
   "version": "3.6.5"
  }
 },
 "nbformat": 4,
 "nbformat_minor": 2
}
