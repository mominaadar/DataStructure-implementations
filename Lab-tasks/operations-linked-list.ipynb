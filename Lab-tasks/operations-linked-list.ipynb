{
 "cells": [
  {
   "cell_type": "code",
   "execution_count": 93,
   "metadata": {},
   "outputs": [],
   "source": [
    "class Node:\n",
    "    def __init__(self, val=None):\n",
    "        self.val = val\n",
    "        self.next = None"
   ]
  },
  {
   "cell_type": "code",
   "execution_count": 94,
   "metadata": {},
   "outputs": [],
   "source": [
    "class LinkedList:\n",
    "    def __init__(self):\n",
    "        self.head = None"
   ]
  },
  {
   "cell_type": "code",
   "execution_count": 95,
   "metadata": {},
   "outputs": [],
   "source": [
    "def push(self, val):\n",
    "    new_node = Node(val)\n",
    "    \n",
    "    if self.head is None:\n",
    "        self.head = new_node\n",
    "        return \n",
    "    \n",
    "    last = self.head\n",
    "    while last.next is not None:\n",
    "        last = last.next\n",
    "        \n",
    "    last.next = new_node\n",
    "    \n",
    "LinkedList.push = push"
   ]
  },
  {
   "cell_type": "code",
   "execution_count": 96,
   "metadata": {},
   "outputs": [],
   "source": [
    "def __str__(self):\n",
    "    ret_str = '['\n",
    "    temp = self.head\n",
    "    while temp:\n",
    "        ret_str += str(temp.val) + \", \"\n",
    "        temp = temp.next\n",
    "        \n",
    "    ret_str = ret_str.rstrip(', ')\n",
    "    ret_str = ret_str + ']'\n",
    "    return ret_str\n",
    "\n",
    "LinkedList.__str__ = __str__"
   ]
  },
  {
   "cell_type": "code",
   "execution_count": 97,
   "metadata": {},
   "outputs": [],
   "source": [
    "def pop(self):\n",
    "    if self.head is None:\n",
    "        raise Exception('List is already empty')\n",
    "        \n",
    "    if self.head.next is None:\n",
    "        val = self.head.val\n",
    "        self.head = None\n",
    "        return val\n",
    "    \n",
    "    temp = self.head\n",
    "    while temp.next is not None:\n",
    "        prev = temp\n",
    "        temp = temp.next\n",
    "        \n",
    "    val = temp.val\n",
    "    prev.next = None\n",
    "    return val\n",
    "\n",
    "LinkedList.pop = pop"
   ]
  },
  {
   "cell_type": "code",
   "execution_count": 98,
   "metadata": {},
   "outputs": [],
   "source": [
    "def insert(self, index, val):\n",
    "    new_node = Node(val)\n",
    "    \n",
    "    if index == 0:\n",
    "        new_node.next = self.head\n",
    "        self.head = new_node\n",
    "        return\n",
    "    \n",
    "    temp = self.head\n",
    "    counter = 0\n",
    "    while temp is not None and counter < index:\n",
    "        prev = temp\n",
    "        temp = temp.next\n",
    "        counter += 1\n",
    "        \n",
    "    new_node.next = temp\n",
    "    prev.next = new_node\n",
    "    \n",
    "LinkedList.insert = insert"
   ]
  },
  {
   "cell_type": "code",
   "execution_count": 99,
   "metadata": {},
   "outputs": [],
   "source": [
    "def remove(self, val):\n",
    "        if self.head is None:\n",
    "            raise Exception('List is empty')\n",
    "            \n",
    "        temp = self.head\n",
    "        if temp is not None:\n",
    "            if temp.val == val:\n",
    "                self.head = temp.next #or self.head.next\n",
    "                temp = None\n",
    "                return\n",
    "        \n",
    "        while temp:\n",
    "            if temp.val == val:\n",
    "                break\n",
    "                \n",
    "            prev = temp\n",
    "            temp = temp.next\n",
    "            \n",
    "        if temp is None:\n",
    "            return \n",
    "        \n",
    "        prev.next = temp.next    \n",
    "        \n",
    "LinkedList.remove = remove"
   ]
  },
  {
   "cell_type": "code",
   "execution_count": 100,
   "metadata": {},
   "outputs": [],
   "source": [
    "def remove_at(self, index):\n",
    "        if self.head is None:\n",
    "            raise Exception('List is empty.')\n",
    "            \n",
    "        temp = self.head\n",
    "        if index == 0:\n",
    "            self.head = temp.next\n",
    "            return\n",
    "        \n",
    "        counter = 0\n",
    "        while temp is not None and counter<index:    \n",
    "            prev = temp\n",
    "            temp= temp.next\n",
    "            counter += 1\n",
    "        \n",
    "        if temp is None:\n",
    "            raise Exception(\"Index not found\")\n",
    "            \n",
    "        prev.next = temp.next\n",
    "\n",
    "LinkedList.remove_at = remove_at"
   ]
  },
  {
   "cell_type": "code",
   "execution_count": 101,
   "metadata": {},
   "outputs": [],
   "source": [
    "def get(self,index):\n",
    "        \n",
    "    if index == 0:\n",
    "        return self.head.val\n",
    "        \n",
    "        \n",
    "    temp = self.head\n",
    "    count = 0\n",
    "    \n",
    "    while temp is not None and count<index:\n",
    "        temp = temp.next\n",
    "        count += 1\n",
    "\n",
    "        if count == index:\n",
    "            if temp is not None:\n",
    "                return temp.val\n",
    "            else:\n",
    "                raise Exception('Index not found')\n",
    "            \n",
    "    if count != index:\n",
    "        raise Exception('Index not found')\n",
    "                \n",
    "LinkedList.get = get    "
   ]
  },
  {
   "cell_type": "code",
   "execution_count": 102,
   "metadata": {},
   "outputs": [],
   "source": [
    "def length(self):\n",
    "    temp = self.head\n",
    "    counter = 0\n",
    "    while temp:\n",
    "        temp = temp.next\n",
    "        counter += 1\n",
    "        \n",
    "    return counter\n",
    "\n",
    "LinkedList.length = length"
   ]
  },
  {
   "cell_type": "code",
   "execution_count": 103,
   "metadata": {},
   "outputs": [],
   "source": [
    "def get_last(self):\n",
    "        if self.head is None:\n",
    "            return\n",
    "        \n",
    "        if self.head.next is None:\n",
    "            return\n",
    "        \n",
    "        temp = self.head.next\n",
    "        \n",
    "        while temp.next is not None:\n",
    "            temp = temp.next\n",
    "            \n",
    "        return temp\n",
    "    \n",
    "LinkedList.get_last = get_last"
   ]
  },
  {
   "cell_type": "code",
   "execution_count": 104,
   "metadata": {},
   "outputs": [],
   "source": [
    "def find_min(self):\n",
    "    if self.head is None:\n",
    "        return\n",
    "    \n",
    "    if self.head.next is None:\n",
    "        return self.head.val\n",
    "    \n",
    "    val = self.head.val\n",
    "    length = self.length()\n",
    "    temp = self.head.next\n",
    "    \n",
    "    for i in range(length-1):\n",
    "        if temp.val < val:\n",
    "            val = temp.val\n",
    "            temp = temp.next\n",
    "        else:\n",
    "            temp = temp.next\n",
    "            \n",
    "    return val\n",
    "            \n",
    "LinkedList.find_min = find_min"
   ]
  },
  {
   "cell_type": "code",
   "execution_count": 105,
   "metadata": {},
   "outputs": [
    {
     "name": "stdout",
     "output_type": "stream",
     "text": [
      "[25, 18, 3, 9, 20]\n"
     ]
    },
    {
     "data": {
      "text/plain": [
       "3"
      ]
     },
     "execution_count": 105,
     "metadata": {},
     "output_type": "execute_result"
    }
   ],
   "source": [
    "print(l)\n",
    "l.find_min()"
   ]
  },
  {
   "cell_type": "code",
   "execution_count": 106,
   "metadata": {},
   "outputs": [],
   "source": [
    "def find_max(self):\n",
    "    if self.head is None:\n",
    "        return\n",
    "    \n",
    "    if self.head.next is None:\n",
    "        return self.head.val\n",
    "    \n",
    "    val = self.head.val\n",
    "    length = self.length()\n",
    "    temp = self.head.next\n",
    "    \n",
    "    for i in range(length-1):\n",
    "        if temp.val > val:\n",
    "            val = temp.val\n",
    "            temp = temp.next\n",
    "        else:\n",
    "            temp = temp.next\n",
    "            \n",
    "    return val\n",
    "            \n",
    "LinkedList.find_max = find_max"
   ]
  },
  {
   "cell_type": "code",
   "execution_count": 107,
   "metadata": {},
   "outputs": [
    {
     "name": "stdout",
     "output_type": "stream",
     "text": [
      "[25, 18, 3, 9, 20]\n"
     ]
    },
    {
     "data": {
      "text/plain": [
       "25"
      ]
     },
     "execution_count": 107,
     "metadata": {},
     "output_type": "execute_result"
    }
   ],
   "source": [
    "print(l)\n",
    "l.find_max()"
   ]
  },
  {
   "cell_type": "code",
   "execution_count": 124,
   "metadata": {},
   "outputs": [],
   "source": [
    "def remove_min(self):\n",
    "#     if self.head is None:\n",
    "#         return\n",
    "    \n",
    "#     if self.head.next is None:\n",
    "#         return self.head.val\n",
    "    \n",
    "#     val = self.head.val\n",
    "#     length = self.length()\n",
    "#     temp = self.head.next\n",
    "    \n",
    "#     for i in range(length-1):\n",
    "#         if temp.val < val:\n",
    "#             val = temp.val\n",
    "#             temp = temp.next\n",
    "#         else:\n",
    "#             temp = temp.next\n",
    "            \n",
    "    val = l.find_min()\n",
    "    self.remove(val)\n",
    "            \n",
    "LinkedList.remove_min = remove_min"
   ]
  },
  {
   "cell_type": "code",
   "execution_count": 125,
   "metadata": {},
   "outputs": [
    {
     "name": "stdout",
     "output_type": "stream",
     "text": [
      "[25, 18, 3, 9, 20]\n",
      "[25, 18, 9, 20]\n"
     ]
    }
   ],
   "source": [
    "print(l)\n",
    "l.remove_min()\n",
    "print(l)"
   ]
  },
  {
   "cell_type": "code",
   "execution_count": 184,
   "metadata": {},
   "outputs": [],
   "source": [
    "def third_highest(self):\n",
    "    h1 = 0\n",
    "    h2 = 0\n",
    "    h3 = 0\n",
    "    temp = self.head\n",
    "    \n",
    "    while temp is not None:\n",
    "        if temp.val >= h1:\n",
    "            h3 = h2\n",
    "            h2 = h1\n",
    "            h1 = temp.val\n",
    "        elif temp.val >= h2:\n",
    "            h3 = h2\n",
    "            h2 = temp.val\n",
    "        elif temp.val >= h3:\n",
    "            h3 = temp.val\n",
    "        temp = temp.next\n",
    "    \n",
    "    return h3\n",
    "\n",
    "LinkedList.third_highest = third_highest"
   ]
  },
  {
   "cell_type": "code",
   "execution_count": 185,
   "metadata": {},
   "outputs": [
    {
     "name": "stdout",
     "output_type": "stream",
     "text": [
      "[25, 18, 3, 10, 20]\n"
     ]
    }
   ],
   "source": [
    "l = LinkedList()\n",
    "l.push(25)\n",
    "l.push(18)\n",
    "l.push(3)\n",
    "l.push(10)\n",
    "l.push(20)\n",
    "print(l)"
   ]
  },
  {
   "cell_type": "code",
   "execution_count": 186,
   "metadata": {},
   "outputs": [
    {
     "name": "stdout",
     "output_type": "stream",
     "text": [
      "[25, 18, 3, 10, 20]\n"
     ]
    },
    {
     "data": {
      "text/plain": [
       "18"
      ]
     },
     "execution_count": 186,
     "metadata": {},
     "output_type": "execute_result"
    }
   ],
   "source": [
    "print(l)\n",
    "l.third_highest()"
   ]
  },
  {
   "cell_type": "code",
   "execution_count": 183,
   "metadata": {},
   "outputs": [],
   "source": [
    "from collections import Counter\n",
    "cnt = Counter()\n",
    "\n",
    "def most_common(self):\n",
    "    temp = self.head\n",
    "    \n",
    "    while temp is not None:\n",
    "        cnt[temp.val] += 1\n",
    "        temp = temp.next\n",
    "    \n",
    "    return cnt.most_common()[0][0]\n",
    "\n",
    "LinkedList.most_common = most_common"
   ]
  },
  {
   "cell_type": "code",
   "execution_count": 114,
   "metadata": {},
   "outputs": [
    {
     "name": "stdout",
     "output_type": "stream",
     "text": [
      "[25, 18, 9, 20]\n",
      "[2, 3, 3, 9, 9, 9, 20]\n"
     ]
    },
    {
     "data": {
      "text/plain": [
       "9"
      ]
     },
     "execution_count": 114,
     "metadata": {},
     "output_type": "execute_result"
    }
   ],
   "source": [
    "print(l)\n",
    "print(l2)\n",
    "l2.most_common()"
   ]
  },
  {
   "cell_type": "code",
   "execution_count": 116,
   "metadata": {},
   "outputs": [
    {
     "name": "stdout",
     "output_type": "stream",
     "text": [
      "[2, 3, 3, 9, 9, 9, 20]\n"
     ]
    }
   ],
   "source": [
    "l2 = LinkedList()\n",
    "l2.push(2)\n",
    "l2.push(3)\n",
    "l2.push(3)\n",
    "l2.push(9)\n",
    "l2.push(9)\n",
    "l2.push(9)\n",
    "l2.push(20)\n",
    "print(l2)"
   ]
  },
  {
   "cell_type": "code",
   "execution_count": 117,
   "metadata": {},
   "outputs": [],
   "source": [
    "def append_list(self, l2):\n",
    "    last = self.get_last()\n",
    "\n",
    "    if self.head is None:\n",
    "        self.head = l2.head\n",
    "        return\n",
    "    \n",
    "    last.next = l2.head\n",
    "    \n",
    "LinkedList.append_list = append_list"
   ]
  },
  {
   "cell_type": "code",
   "execution_count": 118,
   "metadata": {},
   "outputs": [
    {
     "name": "stdout",
     "output_type": "stream",
     "text": [
      "[25, 18, 3, 9, 20, 2, 3, 3, 9, 9, 9, 20]\n"
     ]
    }
   ],
   "source": [
    "l.append_list(l2)\n",
    "print(l)"
   ]
  },
  {
   "cell_type": "code",
   "execution_count": 119,
   "metadata": {},
   "outputs": [],
   "source": [
    "def op(self,fn):\n",
    "    temp = self.head\n",
    "    while temp is not None:\n",
    "        print(fn(temp.val))\n",
    "        temp = temp.next\n",
    "        \n",
    "LinkedList.op = op"
   ]
  },
  {
   "cell_type": "code",
   "execution_count": 120,
   "metadata": {},
   "outputs": [
    {
     "name": "stdout",
     "output_type": "stream",
     "text": [
      "1.4142135623730951\n",
      "1.7320508075688772\n",
      "1.7320508075688772\n",
      "3.0\n",
      "3.0\n",
      "3.0\n",
      "4.47213595499958\n"
     ]
    }
   ],
   "source": [
    "from math import sqrt\n",
    "l2.op(sqrt)"
   ]
  },
  {
   "cell_type": "code",
   "execution_count": null,
   "metadata": {},
   "outputs": [],
   "source": []
  },
  {
   "cell_type": "code",
   "execution_count": null,
   "metadata": {},
   "outputs": [],
   "source": []
  },
  {
   "cell_type": "code",
   "execution_count": null,
   "metadata": {},
   "outputs": [],
   "source": []
  },
  {
   "cell_type": "code",
   "execution_count": null,
   "metadata": {},
   "outputs": [],
   "source": []
  }
 ],
 "metadata": {
  "kernelspec": {
   "display_name": "Python 3",
   "language": "python",
   "name": "python3"
  },
  "language_info": {
   "codemirror_mode": {
    "name": "ipython",
    "version": 3
   },
   "file_extension": ".py",
   "mimetype": "text/x-python",
   "name": "python",
   "nbconvert_exporter": "python",
   "pygments_lexer": "ipython3",
   "version": "3.7.3"
  }
 },
 "nbformat": 4,
 "nbformat_minor": 2
}
