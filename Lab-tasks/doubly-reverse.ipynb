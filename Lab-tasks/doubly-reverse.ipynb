{
 "cells": [
  {
   "cell_type": "code",
   "execution_count": 1,
   "metadata": {},
   "outputs": [],
   "source": [
    "class Node:\n",
    "    def __init__(self,val=None):\n",
    "        self.val = val\n",
    "        self.next = None\n",
    "        self.prev = None"
   ]
  },
  {
   "cell_type": "code",
   "execution_count": 2,
   "metadata": {},
   "outputs": [],
   "source": [
    "class Doubly:\n",
    "    def __init__(self):\n",
    "        self.head = None"
   ]
  },
  {
   "cell_type": "code",
   "execution_count": 3,
   "metadata": {},
   "outputs": [],
   "source": [
    "def get_last(self):\n",
    "    temp = self.head\n",
    "    while temp.next is not None:\n",
    "        temp = temp.next\n",
    "    \n",
    "    return temp\n",
    "\n",
    "Doubly.get_last = get_last"
   ]
  },
  {
   "cell_type": "code",
   "execution_count": 4,
   "metadata": {},
   "outputs": [],
   "source": [
    "def length(self):\n",
    "    temp = self.head\n",
    "    count = 0\n",
    "    while temp:\n",
    "        temp = temp.next\n",
    "        count += 1\n",
    "    \n",
    "    return count\n",
    "Doubly.length = length"
   ]
  },
  {
   "cell_type": "code",
   "execution_count": 5,
   "metadata": {},
   "outputs": [],
   "source": [
    "def __str__(self):\n",
    "    ret_str = '['\n",
    "    temp = self.head\n",
    "    \n",
    "    while temp:\n",
    "        ret_str += str(temp.val) + ', '\n",
    "        temp = temp.next\n",
    "    \n",
    "    ret_str = ret_str.rstrip(', ')\n",
    "    ret_str += ']'\n",
    "    \n",
    "    return ret_str\n",
    "\n",
    "Doubly.__str__ = __str__"
   ]
  },
  {
   "cell_type": "code",
   "execution_count": 6,
   "metadata": {},
   "outputs": [],
   "source": [
    "def push(self,val):\n",
    "    new_node = Node(val)\n",
    "    if self.head is None:\n",
    "        self.head = new_node\n",
    "        return\n",
    "    \n",
    "    temp = self.head\n",
    "    while temp.next is not None:\n",
    "\n",
    "        temp = temp.next\n",
    "\n",
    "\n",
    "    temp.next = new_node\n",
    "    new_node.prev = temp\n",
    "    \n",
    "Doubly.push = push    "
   ]
  },
  {
   "cell_type": "code",
   "execution_count": 7,
   "metadata": {},
   "outputs": [],
   "source": [
    "def reverse_list(self):\n",
    "    if self.head is None:\n",
    "        raise Exception('List is empty')\n",
    "        \n",
    "    if self.head.next is None:\n",
    "        return self.head.val\n",
    "    \n",
    "    length = self.length()\n",
    "    last = self.get_last()\n",
    "    \n",
    "    new_head = last\n",
    "    \n",
    "    for i in range(length-1):\n",
    "        temp = self.head\n",
    "        \n",
    "        while temp.next != last:\n",
    "            temp = temp.next            \n",
    "            \n",
    "        last.next = temp\n",
    "        temp.prev = last\n",
    "        \n",
    "        last = temp\n",
    "        \n",
    "        if last == self.head:\n",
    "            break\n",
    "    \n",
    "    last.next = None\n",
    "    self.head.prev = None\n",
    "    self.head = new_head\n",
    "        \n",
    "Doubly.reverse_list = reverse_list"
   ]
  },
  {
   "cell_type": "code",
   "execution_count": 8,
   "metadata": {},
   "outputs": [
    {
     "name": "stdout",
     "output_type": "stream",
     "text": [
      "[2, 6, 5, 8]\n",
      "[8, 5, 6, 2]\n"
     ]
    }
   ],
   "source": [
    "d = Doubly()\n",
    "d.push(2)\n",
    "d.push(6)\n",
    "d.push(5)\n",
    "d.push(8)\n",
    "print(d)\n",
    "d.reverse_list()\n",
    "print(d)"
   ]
  },
  {
   "cell_type": "code",
   "execution_count": null,
   "metadata": {},
   "outputs": [],
   "source": []
  }
 ],
 "metadata": {
  "kernelspec": {
   "display_name": "Python 3",
   "language": "python",
   "name": "python3"
  },
  "language_info": {
   "codemirror_mode": {
    "name": "ipython",
    "version": 3
   },
   "file_extension": ".py",
   "mimetype": "text/x-python",
   "name": "python",
   "nbconvert_exporter": "python",
   "pygments_lexer": "ipython3",
   "version": "3.6.5"
  }
 },
 "nbformat": 4,
 "nbformat_minor": 2
}
