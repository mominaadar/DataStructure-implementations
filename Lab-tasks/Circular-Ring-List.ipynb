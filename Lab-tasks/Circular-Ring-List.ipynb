{
 "cells": [
  {
   "cell_type": "code",
   "execution_count": 1,
   "metadata": {},
   "outputs": [],
   "source": [
    "class Node:\n",
    "    def __init__(self,val = None):\n",
    "        self.val= val\n",
    "        self.next = None"
   ]
  },
  {
   "cell_type": "code",
   "execution_count": 2,
   "metadata": {},
   "outputs": [],
   "source": [
    "class Ring:\n",
    "    def __init__(self):\n",
    "        self.head = None"
   ]
  },
  {
   "cell_type": "code",
   "execution_count": 12,
   "metadata": {},
   "outputs": [],
   "source": [
    "def __str__(self):\n",
    "    ret_str = '['\n",
    "    \n",
    "    temp = self.head\n",
    "    while temp is not None:\n",
    "        ret_str += str(temp.val)+', '\n",
    "        \n",
    "        temp = temp.next\n",
    "        \n",
    "        if temp == self.head:\n",
    "            break\n",
    "    \n",
    "    ret_str = ret_str.rstrip(', ')\n",
    "    ret_str += ']'\n",
    "    \n",
    "    return ret_str\n",
    "\n",
    "Ring.__str__ = __str__"
   ]
  },
  {
   "cell_type": "code",
   "execution_count": 13,
   "metadata": {},
   "outputs": [],
   "source": [
    "def get_last(self):\n",
    "    temp = self.head\n",
    "    \n",
    "    if self.head is None:\n",
    "        return None\n",
    "    \n",
    "    if temp.next is None:\n",
    "        return temp\n",
    "    \n",
    "    temp = self.head.next\n",
    "    while temp.next != self.head:\n",
    "        temp = temp.next\n",
    "        \n",
    "    return temp    \n",
    "    \n",
    "Ring.get_last = get_last"
   ]
  },
  {
   "cell_type": "code",
   "execution_count": 14,
   "metadata": {},
   "outputs": [],
   "source": [
    "def length(self):\n",
    "    temp = self.head\n",
    "    count = 0\n",
    "    \n",
    "    while temp.next != self.head:\n",
    "        temp = temp.next \n",
    "        count += 1\n",
    "        \n",
    "        if temp == self.head:\n",
    "            break\n",
    "        \n",
    "    return count\n",
    "\n",
    "Ring.length = length"
   ]
  },
  {
   "cell_type": "code",
   "execution_count": 15,
   "metadata": {},
   "outputs": [],
   "source": [
    "def get(self,index):\n",
    "    \n",
    "    if index == 0 and self.head is not None:\n",
    "        return self.head.val\n",
    "    else:\n",
    "        print(\"Empty list\")\n",
    "        \n",
    "    temp = self.head\n",
    "    count = 0\n",
    "    \n",
    "    while temp is not None and count < index:\n",
    "        temp = temp.next\n",
    "        count += 1\n",
    "        \n",
    "    return temp.val\n",
    "    \n",
    "Ring.get = get"
   ]
  },
  {
   "cell_type": "code",
   "execution_count": 16,
   "metadata": {},
   "outputs": [],
   "source": [
    "def push(self,val):\n",
    "    new_node = Node(val)\n",
    "    \n",
    "    if self.head is None:\n",
    "        self.head = new_node\n",
    "        self.head.next = self.head\n",
    "        return\n",
    "    \n",
    "    last = self.get_last()\n",
    "    \n",
    "    last.next = new_node\n",
    "    new_node.next = self.head\n",
    "    \n",
    "Ring.push = push"
   ]
  },
  {
   "cell_type": "code",
   "execution_count": 32,
   "metadata": {},
   "outputs": [],
   "source": [
    "def pop(self):\n",
    "    if self.head is None:\n",
    "        return\n",
    "    \n",
    "    last = self.get_last()\n",
    "    \n",
    "    if last == self.head:\n",
    "        self.head = None\n",
    "        return\n",
    "    \n",
    "    temp = self.head\n",
    "    while temp.next != last:\n",
    "        temp = temp.next\n",
    "    \n",
    "    temp.next = self.head\n",
    "\n",
    "Ring.pop = pop    "
   ]
  },
  {
   "cell_type": "code",
   "execution_count": 80,
   "metadata": {},
   "outputs": [],
   "source": [
    "def insert(self,index,val):\n",
    "    new_node = Node(val)\n",
    "    last = self.get_last()\n",
    "    \n",
    "    if index == 0:\n",
    "        if self.head is None:\n",
    "            self.head = new_node\n",
    "            new_node.next = self.head\n",
    "            return\n",
    "        else:\n",
    "            new_node.next = self.head\n",
    "            self.head = new_node\n",
    "            last.next = self.head\n",
    "            return\n",
    "    \n",
    "    count = 0\n",
    "    temp = self.head\n",
    "    \n",
    "    while temp is not None and count < index:\n",
    "        prev = temp \n",
    "        temp = temp.next\n",
    "        count += 1\n",
    "    \n",
    "    new_node.next = temp\n",
    "    prev.next = new_node\n",
    "    \n",
    "    if new_node.next == self.head: #very important, changes head value\n",
    "        self.head = new_node\n",
    "        \n",
    "Ring.insert = insert"
   ]
  },
  {
   "cell_type": "code",
   "execution_count": 81,
   "metadata": {},
   "outputs": [
    {
     "name": "stdout",
     "output_type": "stream",
     "text": [
      "[2, 9, 3, 7]\n"
     ]
    }
   ],
   "source": [
    "r = Ring()\n",
    "r.push(2)\n",
    "r.push(9)\n",
    "r.push(3)\n",
    "r.push(7)\n",
    "print(r)"
   ]
  },
  {
   "cell_type": "code",
   "execution_count": 130,
   "metadata": {},
   "outputs": [],
   "source": [
    "def remove_at(self,index):\n",
    "    last = self.get_last()\n",
    "    \n",
    "    if self.head is None:\n",
    "        return\n",
    "    \n",
    "    if index == 0:\n",
    "        if last == self.head:\n",
    "            self.head = None\n",
    "            last = None\n",
    "            return\n",
    "        \n",
    "        else:\n",
    "            self.head = self.head.next\n",
    "            last.next = self.head\n",
    "            return\n",
    "            \n",
    "    \n",
    "    count = 0 \n",
    "    temp = self.head\n",
    "    \n",
    "    while temp is not None and count < index:\n",
    "        prev = temp\n",
    "        temp = temp.next\n",
    "        count += 1\n",
    "        \n",
    "    if temp == self.head:\n",
    "        prev.next = temp.next\n",
    "        self.head = prev.next \n",
    "        \n",
    "        \n",
    "    prev.next = temp.next\n",
    "        \n",
    "Ring.remove_at = remove_at"
   ]
  },
  {
   "cell_type": "code",
   "execution_count": 132,
   "metadata": {},
   "outputs": [
    {
     "name": "stdout",
     "output_type": "stream",
     "text": [
      "[56, 98, 12]\n"
     ]
    }
   ],
   "source": [
    "r2.remove_at(10)\n",
    "print(r2)"
   ]
  },
  {
   "cell_type": "code",
   "execution_count": 164,
   "metadata": {},
   "outputs": [],
   "source": [
    "def remove_by(self,val):\n",
    "    last = self.get_last()\n",
    "    temp = self.head\n",
    "    \n",
    "    if self.head is None:\n",
    "        return\n",
    "    \n",
    "    if self.head.val == val:\n",
    "        if last == self.head:\n",
    "            self.head = None\n",
    "#             last = None\n",
    "            return\n",
    "        else:\n",
    "            self.head = temp.next\n",
    "            last.next = self.head\n",
    "            return\n",
    "        \n",
    "    prev = temp    \n",
    "    temp = temp.next\n",
    "    while temp != self.head:\n",
    "        if temp.val == val:\n",
    "            break\n",
    "        prev = temp\n",
    "        temp = temp.next\n",
    "    \n",
    "    if temp == self.head:\n",
    "        print('Value not found')\n",
    "    \n",
    "    prev.next = temp.next\n",
    "    \n",
    "Ring.remove_by = remove_by"
   ]
  },
  {
   "cell_type": "code",
   "execution_count": 169,
   "metadata": {},
   "outputs": [
    {
     "name": "stdout",
     "output_type": "stream",
     "text": [
      "[56, 98, 3, 12]\n"
     ]
    }
   ],
   "source": [
    "r2 = Ring()\n",
    "r2.insert(0,12)\n",
    "r2.insert(0,3)\n",
    "r2.insert(0,98)\n",
    "r2.insert(3,56)\n",
    "print(r2)"
   ]
  },
  {
   "cell_type": "code",
   "execution_count": 170,
   "metadata": {},
   "outputs": [
    {
     "name": "stdout",
     "output_type": "stream",
     "text": [
      "[56, 98, 3]\n"
     ]
    }
   ],
   "source": [
    "r2.remove_by(12)\n",
    "print(r2)"
   ]
  },
  {
   "cell_type": "code",
   "execution_count": null,
   "metadata": {},
   "outputs": [],
   "source": []
  }
 ],
 "metadata": {
  "kernelspec": {
   "display_name": "Python 3",
   "language": "python",
   "name": "python3"
  },
  "language_info": {
   "codemirror_mode": {
    "name": "ipython",
    "version": 3
   },
   "file_extension": ".py",
   "mimetype": "text/x-python",
   "name": "python",
   "nbconvert_exporter": "python",
   "pygments_lexer": "ipython3",
   "version": "3.6.5"
  }
 },
 "nbformat": 4,
 "nbformat_minor": 2
}
