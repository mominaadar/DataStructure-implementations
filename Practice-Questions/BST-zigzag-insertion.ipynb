{
 "cells": [
  {
   "cell_type": "code",
   "execution_count": 51,
   "metadata": {},
   "outputs": [],
   "source": [
    "class TreeNode:\n",
    "    def __init__(self,val):\n",
    "        self.val = val\n",
    "        self.right = None\n",
    "        self.left = None"
   ]
  },
  {
   "cell_type": "code",
   "execution_count": 52,
   "metadata": {},
   "outputs": [],
   "source": [
    "class BST(TreeNode):\n",
    "    def __init__(self,val,parent=None):\n",
    "        super().__init__(val)\n",
    "        self.parent = parent\n",
    "        self.mark = True"
   ]
  },
  {
   "cell_type": "code",
   "execution_count": 53,
   "metadata": {},
   "outputs": [],
   "source": [
    "def print_tree(tree, level=0, label='.'): \n",
    "    print(' ' * (level*2) + label + ':', tree.val)\n",
    "    for child, lbl in zip([tree.left, tree.right], ['L', 'R']):  # do for all children \n",
    "        if child is not None:\n",
    "            print_tree(child, level+1, lbl)"
   ]
  },
  {
   "cell_type": "code",
   "execution_count": 54,
   "metadata": {},
   "outputs": [],
   "source": [
    "def zigzag(self,val):\n",
    "    \n",
    "    if self.left:\n",
    "        self.left.zigzag(val)\n",
    "        return\n",
    "        \n",
    "    if self.right:\n",
    "        self.right.zigzag(val)\n",
    "        return\n",
    "        \n",
    "    if self.mark is False:\n",
    "        self.left = BST(val,parent=self)\n",
    "        self.left.mark = True\n",
    "        return\n",
    "    \n",
    "    if self.mark is True:\n",
    "        self.right = BST(val,parent=self)\n",
    "        self.right.mark = False\n",
    "        return\n",
    "        \n",
    "        \n",
    "BST.zigzag = zigzag"
   ]
  },
  {
   "cell_type": "code",
   "execution_count": 55,
   "metadata": {},
   "outputs": [
    {
     "name": "stdout",
     "output_type": "stream",
     "text": [
      ".: 14\n"
     ]
    }
   ],
   "source": [
    "b = BST(14)\n",
    "print_tree(b)"
   ]
  },
  {
   "cell_type": "code",
   "execution_count": 56,
   "metadata": {},
   "outputs": [
    {
     "name": "stdout",
     "output_type": "stream",
     "text": [
      ".: 14\n",
      "  R: 12\n",
      "    L: 3\n",
      "      R: 9\n",
      "        L: 45\n"
     ]
    }
   ],
   "source": [
    "b.zigzag(12)\n",
    "b.zigzag(3)\n",
    "b.zigzag(9)\n",
    "b.zigzag(45)\n",
    "print_tree(b)"
   ]
  },
  {
   "cell_type": "code",
   "execution_count": null,
   "metadata": {},
   "outputs": [],
   "source": []
  }
 ],
 "metadata": {
  "kernelspec": {
   "display_name": "Python 3",
   "language": "python",
   "name": "python3"
  },
  "language_info": {
   "codemirror_mode": {
    "name": "ipython",
    "version": 3
   },
   "file_extension": ".py",
   "mimetype": "text/x-python",
   "name": "python",
   "nbconvert_exporter": "python",
   "pygments_lexer": "ipython3",
   "version": "3.7.4"
  }
 },
 "nbformat": 4,
 "nbformat_minor": 2
}
