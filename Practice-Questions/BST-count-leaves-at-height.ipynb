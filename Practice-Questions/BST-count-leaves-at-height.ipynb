{
 "cells": [
  {
   "cell_type": "code",
   "execution_count": 1,
   "metadata": {},
   "outputs": [],
   "source": [
    "class TreeNode:\n",
    "    def __init__(self,val):\n",
    "        self.val = val\n",
    "        self.right = None\n",
    "        self.left = None"
   ]
  },
  {
   "cell_type": "code",
   "execution_count": 2,
   "metadata": {},
   "outputs": [],
   "source": [
    "class BST(TreeNode):\n",
    "    def __init__(self,val,parent=None):\n",
    "        super().__init__(val)\n",
    "        self.parent = parent"
   ]
  },
  {
   "cell_type": "code",
   "execution_count": 3,
   "metadata": {},
   "outputs": [],
   "source": [
    "def print_tree(tree, level=0, label='.'): \n",
    "    print(' ' * (level*2) + label + ':' , tree.val)\n",
    "    for child, lbl in zip([tree.left, tree.right], ['L', 'R']):  # do for all children \n",
    "        if child is not None:\n",
    "            print_tree(child, level+1, lbl)"
   ]
  },
  {
   "cell_type": "code",
   "execution_count": 4,
   "metadata": {},
   "outputs": [],
   "source": [
    "def insert(self,val):\n",
    "    if val < self.val:\n",
    "        if self.left is None:\n",
    "            self.left = BST(val,parent=self)\n",
    "            return\n",
    "        else:\n",
    "            self.left.insert(val)\n",
    "            \n",
    "    elif val > self.val:\n",
    "        if self.right is None:\n",
    "            self.right = BST(val,parent=self)\n",
    "            return\n",
    "        else:\n",
    "            self.right.insert(val)\n",
    "            \n",
    "BST.insert = insert"
   ]
  },
  {
   "cell_type": "code",
   "execution_count": 5,
   "metadata": {},
   "outputs": [],
   "source": [
    "class DummyC:\n",
    "    def __init__(self):\n",
    "        self.count = 0\n",
    "        self.height = 0\n",
    "        self.dic = {}"
   ]
  },
  {
   "cell_type": "code",
   "execution_count": 12,
   "metadata": {},
   "outputs": [
    {
     "name": "stdout",
     "output_type": "stream",
     "text": [
      ".: 14\n",
      "  L: 12\n",
      "    L: 9\n",
      "  R: 17\n",
      "    L: 15\n",
      "      R: 16\n",
      "    R: 18\n",
      "      R: 20\n"
     ]
    }
   ],
   "source": [
    "d = DummyC()\n",
    "b = BST(14)\n",
    "b.insert(12)\n",
    "b.insert(17)\n",
    "b.insert(9)\n",
    "b.insert(15)\n",
    "b.insert(18)\n",
    "# b.insert(3)\n",
    "# b.insert(10)\n",
    "b.insert(16)\n",
    "b.insert(20)\n",
    "print_tree(b)"
   ]
  },
  {
   "cell_type": "code",
   "execution_count": 13,
   "metadata": {},
   "outputs": [],
   "source": [
    "def count_leaves(self, h, d):\n",
    "    if self.left:\n",
    "        d.height += 1\n",
    "        self.left.count_leaves(h,d)\n",
    "        d.height -= 1\n",
    "            \n",
    "    if self.left is None and self.right is None and d.height == h:\n",
    "        d.count += 1\n",
    "        return\n",
    "    \n",
    "    if self.right:\n",
    "        d.height += 1\n",
    "        self.right.count_leaves(h,d)\n",
    "        d.height -= 1\n",
    "    \n",
    "    return d.count\n",
    "        \n",
    "BST.count_leaves = count_leaves"
   ]
  },
  {
   "cell_type": "code",
   "execution_count": 14,
   "metadata": {},
   "outputs": [
    {
     "data": {
      "text/plain": [
       "1"
      ]
     },
     "execution_count": 14,
     "metadata": {},
     "output_type": "execute_result"
    }
   ],
   "source": [
    "b.count_leaves(2,d)"
   ]
  },
  {
   "cell_type": "code",
   "execution_count": null,
   "metadata": {},
   "outputs": [],
   "source": []
  }
 ],
 "metadata": {
  "kernelspec": {
   "display_name": "Python 3",
   "language": "python",
   "name": "python3"
  },
  "language_info": {
   "codemirror_mode": {
    "name": "ipython",
    "version": 3
   },
   "file_extension": ".py",
   "mimetype": "text/x-python",
   "name": "python",
   "nbconvert_exporter": "python",
   "pygments_lexer": "ipython3",
   "version": "3.7.4"
  }
 },
 "nbformat": 4,
 "nbformat_minor": 2
}
