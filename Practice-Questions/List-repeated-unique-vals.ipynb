{
 "cells": [
  {
   "cell_type": "code",
   "execution_count": 18,
   "metadata": {},
   "outputs": [],
   "source": [
    "class Node:\n",
    "    def __init__(self, val=None):\n",
    "        self.val = val\n",
    "        self.next = None"
   ]
  },
  {
   "cell_type": "code",
   "execution_count": 19,
   "metadata": {},
   "outputs": [],
   "source": [
    "class LinkedList:\n",
    "    def __init__(self):\n",
    "        self.head = None"
   ]
  },
  {
   "cell_type": "code",
   "execution_count": 20,
   "metadata": {},
   "outputs": [],
   "source": [
    "def push(self, val):\n",
    "    new_node = Node(val)\n",
    "    \n",
    "    if self.head is None:\n",
    "        self.head = new_node\n",
    "        return \n",
    "    \n",
    "    last = self.head\n",
    "    while last.next is not None:\n",
    "        last = last.next\n",
    "        \n",
    "    last.next = new_node\n",
    "    \n",
    "LinkedList.push = push"
   ]
  },
  {
   "cell_type": "code",
   "execution_count": 27,
   "metadata": {},
   "outputs": [],
   "source": [
    "def length(self):\n",
    "    temp = self.head\n",
    "    count = 0\n",
    "    \n",
    "    while temp:\n",
    "        count += 1\n",
    "        temp= temp.next\n",
    "        \n",
    "    return count\n",
    "\n",
    "LinkedList.length = length"
   ]
  },
  {
   "cell_type": "code",
   "execution_count": 28,
   "metadata": {},
   "outputs": [],
   "source": [
    "def __str__(self):\n",
    "    ret_str = '['\n",
    "    temp = self.head\n",
    "    while temp:\n",
    "        ret_str += str(temp.val) + \", \"\n",
    "        temp = temp.next\n",
    "        \n",
    "    ret_str = ret_str.rstrip(', ')\n",
    "    ret_str = ret_str + ']'\n",
    "    return ret_str\n",
    "\n",
    "LinkedList.__str__ = __str__"
   ]
  },
  {
   "cell_type": "code",
   "execution_count": 29,
   "metadata": {},
   "outputs": [
    {
     "name": "stdout",
     "output_type": "stream",
     "text": [
      "[1, 1, 3, 2, 4, 2, 2, 2, 3, 3]\n"
     ]
    }
   ],
   "source": [
    "l = LinkedList()\n",
    "l.push(1)\n",
    "l.push(1)\n",
    "l.push(3)\n",
    "l.push(2)\n",
    "l.push(4)\n",
    "l.push(2)\n",
    "l.push(2)\n",
    "l.push(2)\n",
    "l.push(3)\n",
    "l.push(3)\n",
    "print(l)"
   ]
  },
  {
   "cell_type": "code",
   "execution_count": 30,
   "metadata": {},
   "outputs": [],
   "source": [
    "def repeated_vals(self):\n",
    "    count = 0\n",
    "    lst = []\n",
    "    temp1 = self.head\n",
    "    \n",
    "    while temp1.next is not None:\n",
    "        temp2 = temp1.next\n",
    "        \n",
    "        while temp2:\n",
    "            \n",
    "            if temp1.val == temp2.val:\n",
    "                if temp1.val not in lst:\n",
    "                    count += 1\n",
    "                    lst.append(temp1.val)\n",
    "                    break\n",
    "                \n",
    "            temp2 = temp2.next\n",
    "            \n",
    "        temp1 = temp1.next\n",
    "        \n",
    "    return count\n",
    "\n",
    "LinkedList.repeated_vals = repeated_vals"
   ]
  },
  {
   "cell_type": "code",
   "execution_count": 31,
   "metadata": {},
   "outputs": [
    {
     "data": {
      "text/plain": [
       "3"
      ]
     },
     "execution_count": 31,
     "metadata": {},
     "output_type": "execute_result"
    }
   ],
   "source": [
    "l.repeated_vals()"
   ]
  },
  {
   "cell_type": "code",
   "execution_count": 32,
   "metadata": {},
   "outputs": [],
   "source": [
    "def repeated_vals2(self):\n",
    "    t1 = self.head\n",
    "    repeat = 0\n",
    "    lst = []\n",
    "    \n",
    "    for i in range(self.length()):\n",
    "        \n",
    "        t2 = t1.next\n",
    "        \n",
    "        for j in range(i+1,self.length()):\n",
    "            \n",
    "            if t1.val == t2.val and t2.val not in lst:\n",
    "                repeat += 1\n",
    "                lst.append(t2.val)\n",
    "                break\n",
    "                \n",
    "            if t2.next is not None:\n",
    "                t2 = t2.next\n",
    "                    \n",
    "        if t1.next is not None:\n",
    "            t1 = t1.next\n",
    "            \n",
    "    return repeat\n",
    "            \n",
    "LinkedList.repeated_vals2 = repeated_vals2"
   ]
  },
  {
   "cell_type": "code",
   "execution_count": 33,
   "metadata": {},
   "outputs": [
    {
     "data": {
      "text/plain": [
       "3"
      ]
     },
     "execution_count": 33,
     "metadata": {},
     "output_type": "execute_result"
    }
   ],
   "source": [
    "l.repeated_vals()"
   ]
  },
  {
   "cell_type": "code",
   "execution_count": null,
   "metadata": {},
   "outputs": [],
   "source": []
  }
 ],
 "metadata": {
  "kernelspec": {
   "display_name": "Python 3",
   "language": "python",
   "name": "python3"
  },
  "language_info": {
   "codemirror_mode": {
    "name": "ipython",
    "version": 3
   },
   "file_extension": ".py",
   "mimetype": "text/x-python",
   "name": "python",
   "nbconvert_exporter": "python",
   "pygments_lexer": "ipython3",
   "version": "3.7.4"
  }
 },
 "nbformat": 4,
 "nbformat_minor": 2
}
