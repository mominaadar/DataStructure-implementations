{
 "cells": [
  {
   "cell_type": "code",
   "execution_count": 18,
   "metadata": {},
   "outputs": [],
   "source": [
    "class TreeNode:\n",
    "    def __init__(self,val):\n",
    "        self.val = val\n",
    "        self.right = None\n",
    "        self.left = None"
   ]
  },
  {
   "cell_type": "code",
   "execution_count": 19,
   "metadata": {},
   "outputs": [],
   "source": [
    "class BST(TreeNode):\n",
    "    def __init__(self,val,parent=None):\n",
    "        super().__init__(val)\n",
    "        self.parent = parent"
   ]
  },
  {
   "cell_type": "code",
   "execution_count": 20,
   "metadata": {},
   "outputs": [],
   "source": [
    "def print_tree(tree, level=0, label='.'): \n",
    "    print(' ' * (level*2) + label + ':' , tree.val)\n",
    "    for child, lbl in zip([tree.left, tree.right], ['L', 'R']):  # do for all children \n",
    "        if child is not None:\n",
    "            print_tree(child, level+1, lbl)"
   ]
  },
  {
   "cell_type": "code",
   "execution_count": 21,
   "metadata": {},
   "outputs": [],
   "source": [
    "def insert(self,val):\n",
    "    if val < self.val:\n",
    "        if self.left is None:\n",
    "            self.left = BST(val,parent=self)\n",
    "            return\n",
    "        else:\n",
    "            self.left.insert(val)\n",
    "            \n",
    "    elif val > self.val:\n",
    "        if self.right is None:\n",
    "            self.right = BST(val,parent=self)\n",
    "            return\n",
    "        else:\n",
    "            self.right.insert(val)\n",
    "            \n",
    "BST.insert = insert"
   ]
  },
  {
   "cell_type": "code",
   "execution_count": 51,
   "metadata": {},
   "outputs": [
    {
     "name": "stdout",
     "output_type": "stream",
     "text": [
      ".: 14\n",
      "  L: 12\n",
      "    L: 9\n",
      "      L: 3\n",
      "      R: 10\n",
      "  R: 17\n",
      "    L: 15\n",
      "      R: 16\n",
      "    R: 18\n",
      "      R: 20\n"
     ]
    }
   ],
   "source": [
    "b = BST(14)\n",
    "b.insert(12)\n",
    "b.insert(17)\n",
    "b.insert(9)\n",
    "b.insert(15)\n",
    "b.insert(18)\n",
    "b.insert(3)\n",
    "b.insert(10)\n",
    "b.insert(16)\n",
    "b.insert(20)\n",
    "print_tree(b)"
   ]
  },
  {
   "cell_type": "code",
   "execution_count": 90,
   "metadata": {},
   "outputs": [],
   "source": [
    "class DummyC:\n",
    "    def __init__(self):\n",
    "        self.leftcount = 0\n",
    "        self.rightcount = 0"
   ]
  },
  {
   "cell_type": "code",
   "execution_count": 91,
   "metadata": {},
   "outputs": [],
   "source": [
    "d = DummyC()"
   ]
  },
  {
   "cell_type": "code",
   "execution_count": 92,
   "metadata": {},
   "outputs": [],
   "source": [
    "def count_nonleaves(self,d):\n",
    "    if self.left:\n",
    "        if self.left.left is not None or self.left.right is not None:\n",
    "            d.leftcount += 1\n",
    "            self.left.count_nonleaves(d)\n",
    "        \n",
    "    if self.right:\n",
    "        if self.right.left is not None or self.right.right is not None:\n",
    "            d.rightcount += 1\n",
    "            self.right.count_nonleaves(d)\n",
    "            \n",
    "    return (\"Left children: \" + str(d.leftcount) + \" Right children: \" + str(d.rightcount))\n",
    "        \n",
    "BST.count_nonleaves = count_nonleaves"
   ]
  },
  {
   "cell_type": "code",
   "execution_count": 93,
   "metadata": {},
   "outputs": [
    {
     "data": {
      "text/plain": [
       "'Left children: 3 Right children: 2'"
      ]
     },
     "execution_count": 93,
     "metadata": {},
     "output_type": "execute_result"
    }
   ],
   "source": [
    "b.count_nonleaves(d)"
   ]
  },
  {
   "cell_type": "code",
   "execution_count": null,
   "metadata": {},
   "outputs": [],
   "source": []
  }
 ],
 "metadata": {
  "kernelspec": {
   "display_name": "Python 3",
   "language": "python",
   "name": "python3"
  },
  "language_info": {
   "codemirror_mode": {
    "name": "ipython",
    "version": 3
   },
   "file_extension": ".py",
   "mimetype": "text/x-python",
   "name": "python",
   "nbconvert_exporter": "python",
   "pygments_lexer": "ipython3",
   "version": "3.7.4"
  }
 },
 "nbformat": 4,
 "nbformat_minor": 2
}
