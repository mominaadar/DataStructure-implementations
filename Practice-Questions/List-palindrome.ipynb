{
 "cells": [
  {
   "cell_type": "code",
   "execution_count": 2,
   "metadata": {},
   "outputs": [],
   "source": [
    "class Node:\n",
    "    def __init__(self, val=None):\n",
    "        self.val = val\n",
    "        self.next = None"
   ]
  },
  {
   "cell_type": "code",
   "execution_count": 3,
   "metadata": {},
   "outputs": [],
   "source": [
    "class LinkedList:\n",
    "    def __init__(self):\n",
    "        self.head = None"
   ]
  },
  {
   "cell_type": "code",
   "execution_count": 4,
   "metadata": {},
   "outputs": [],
   "source": [
    "def push(self, val):\n",
    "    new_node = Node(val)\n",
    "    \n",
    "    if self.head is None:\n",
    "        self.head = new_node\n",
    "        return \n",
    "    \n",
    "    last = self.head\n",
    "    while last.next is not None:\n",
    "        last = last.next\n",
    "        \n",
    "    last.next = new_node\n",
    "    \n",
    "LinkedList.push = push"
   ]
  },
  {
   "cell_type": "code",
   "execution_count": 5,
   "metadata": {},
   "outputs": [],
   "source": [
    "def __str__(self):\n",
    "    ret_str = '['\n",
    "    temp = self.head\n",
    "    while temp:\n",
    "        ret_str += str(temp.val) + \", \"\n",
    "        temp = temp.next\n",
    "        \n",
    "    ret_str = ret_str.rstrip(', ')\n",
    "    ret_str = ret_str + ']'\n",
    "    return ret_str\n",
    "\n",
    "LinkedList.__str__ = __str__"
   ]
  },
  {
   "cell_type": "code",
   "execution_count": 6,
   "metadata": {},
   "outputs": [],
   "source": [
    "def _get_last(self):\n",
    "    temp = self.head\n",
    "    \n",
    "    while temp.next is not None:\n",
    "        temp = temp.next\n",
    "        \n",
    "    return temp\n",
    "\n",
    "LinkedList._get_last = _get_last"
   ]
  },
  {
   "cell_type": "code",
   "execution_count": 16,
   "metadata": {},
   "outputs": [
    {
     "name": "stdout",
     "output_type": "stream",
     "text": [
      "[R, A, C, E, C, A, R]\n"
     ]
    }
   ],
   "source": [
    "l = LinkedList()\n",
    "l.push('R')\n",
    "l.push('A')\n",
    "l.push('C')\n",
    "l.push('E')\n",
    "l.push('C')\n",
    "l.push('A')\n",
    "l.push('R')\n",
    "print(l)"
   ]
  },
  {
   "cell_type": "code",
   "execution_count": 21,
   "metadata": {},
   "outputs": [],
   "source": [
    "def palindrome(self, string, count=0, start=None, end=None):\n",
    "    \n",
    "    if count == 0:\n",
    "        start = self.head\n",
    "        end = self._get_last()\n",
    "        temp = self.head\n",
    "        \n",
    "        while temp.next is not end:\n",
    "            temp = temp.next\n",
    "        \n",
    "    count += 1\n",
    "\n",
    "    if start == end:\n",
    "        return True\n",
    "    \n",
    "    if start.val == end.val:\n",
    "        \n",
    "        temp = self.head\n",
    "        \n",
    "        while temp.next is not end:\n",
    "            temp = temp.next\n",
    "        \n",
    "        start = start.next\n",
    "        end = temp\n",
    "\n",
    "        result = self.palindrome(string, count, start, end) \n",
    "        \n",
    "    else:\n",
    "        return False\n",
    "    \n",
    "    return result\n",
    "        \n",
    "LinkedList.palindrome = palindrome"
   ]
  },
  {
   "cell_type": "code",
   "execution_count": 22,
   "metadata": {},
   "outputs": [
    {
     "data": {
      "text/plain": [
       "True"
      ]
     },
     "execution_count": 22,
     "metadata": {},
     "output_type": "execute_result"
    }
   ],
   "source": [
    "l.palindrome(l)"
   ]
  },
  {
   "cell_type": "code",
   "execution_count": 27,
   "metadata": {},
   "outputs": [
    {
     "name": "stdout",
     "output_type": "stream",
     "text": [
      "[R, G, C, E, C, A, R]\n"
     ]
    }
   ],
   "source": [
    "l2 = LinkedList()\n",
    "l2.push('R')\n",
    "l2.push('G')\n",
    "l2.push('C')\n",
    "l2.push('E')\n",
    "l2.push('C')\n",
    "l2.push('A')\n",
    "l2.push('R')\n",
    "print(l2)"
   ]
  },
  {
   "cell_type": "code",
   "execution_count": 28,
   "metadata": {},
   "outputs": [
    {
     "data": {
      "text/plain": [
       "False"
      ]
     },
     "execution_count": 28,
     "metadata": {},
     "output_type": "execute_result"
    }
   ],
   "source": [
    "l2.palindrome(l)"
   ]
  },
  {
   "cell_type": "code",
   "execution_count": null,
   "metadata": {},
   "outputs": [],
   "source": []
  }
 ],
 "metadata": {
  "kernelspec": {
   "display_name": "Python 3",
   "language": "python",
   "name": "python3"
  },
  "language_info": {
   "codemirror_mode": {
    "name": "ipython",
    "version": 3
   },
   "file_extension": ".py",
   "mimetype": "text/x-python",
   "name": "python",
   "nbconvert_exporter": "python",
   "pygments_lexer": "ipython3",
   "version": "3.7.4"
  }
 },
 "nbformat": 4,
 "nbformat_minor": 2
}
