{
 "cells": [
  {
   "cell_type": "code",
   "execution_count": 1,
   "metadata": {},
   "outputs": [],
   "source": [
    "class Node:\n",
    "    def __init__(self, val=None):\n",
    "        self.val = val\n",
    "        self.next = None"
   ]
  },
  {
   "cell_type": "code",
   "execution_count": 2,
   "metadata": {},
   "outputs": [],
   "source": [
    "class LinkedList:\n",
    "    def __init__(self):\n",
    "        self.head = None"
   ]
  },
  {
   "cell_type": "code",
   "execution_count": 3,
   "metadata": {},
   "outputs": [],
   "source": [
    "def push(self, val):\n",
    "    new_node = Node(val)\n",
    "    \n",
    "    if self.head is None:\n",
    "        self.head = new_node\n",
    "        return \n",
    "    \n",
    "    last = self.head\n",
    "    while last.next is not None:\n",
    "        last = last.next\n",
    "        \n",
    "    last.next = new_node\n",
    "    \n",
    "LinkedList.push = push"
   ]
  },
  {
   "cell_type": "code",
   "execution_count": 4,
   "metadata": {},
   "outputs": [],
   "source": [
    "def __str__(self):\n",
    "    ret_str = '['\n",
    "    temp = self.head\n",
    "    while temp:\n",
    "        ret_str += str(temp.val) + \", \"\n",
    "        temp = temp.next\n",
    "        \n",
    "    ret_str = ret_str.rstrip(', ')\n",
    "    ret_str = ret_str + ']'\n",
    "    return ret_str\n",
    "\n",
    "LinkedList.__str__ = __str__"
   ]
  },
  {
   "cell_type": "code",
   "execution_count": 5,
   "metadata": {},
   "outputs": [],
   "source": [
    "def length(self):\n",
    "    temp = self.head\n",
    "    count = 0\n",
    "    \n",
    "    while temp:\n",
    "        count += 1\n",
    "        temp= temp.next\n",
    "        \n",
    "    return count\n",
    "\n",
    "LinkedList.length = length"
   ]
  },
  {
   "cell_type": "code",
   "execution_count": 6,
   "metadata": {},
   "outputs": [
    {
     "name": "stdout",
     "output_type": "stream",
     "text": [
      "[2, 45, 45, 45, 2, 45, 3]\n"
     ]
    }
   ],
   "source": [
    "l = LinkedList()\n",
    "l.push(2)\n",
    "l.push(45)\n",
    "l.push(45)\n",
    "l.push(45)\n",
    "l.push(2)\n",
    "l.push(45)\n",
    "l.push(3)\n",
    "print(l)"
   ]
  },
  {
   "cell_type": "code",
   "execution_count": 7,
   "metadata": {},
   "outputs": [
    {
     "name": "stdout",
     "output_type": "stream",
     "text": [
      "[52, 7, 5, 6, 4, 45]\n"
     ]
    }
   ],
   "source": [
    "l2 = LinkedList()\n",
    "l2.push(52)\n",
    "l2.push(7)\n",
    "l2.push(5)\n",
    "l2.push(6)\n",
    "l2.push(4)\n",
    "l2.push(45)\n",
    "print(l2)"
   ]
  },
  {
   "cell_type": "code",
   "execution_count": 10,
   "metadata": {},
   "outputs": [],
   "source": [
    "def common_idx(self,l2):\n",
    "    \n",
    "    temp1 = self.head\n",
    "    temp2 = l2.head\n",
    "    same_idx, common = 0,0\n",
    "    \n",
    "    for i in range(self.length()):\n",
    "        \n",
    "        temp2 = l2.head\n",
    "        for j in range(l2.length()):\n",
    "            if i == j:\n",
    "                if temp1.val == temp2.val:\n",
    "                    same_idx += 1\n",
    "                    \n",
    "            if temp1.val == temp2.val:\n",
    "                common += 1\n",
    "            \n",
    "            if temp2.next is not None:\n",
    "                temp2 = temp2.next\n",
    "        \n",
    "        if temp1.next is not None:\n",
    "            temp1 = temp1.next\n",
    "        \n",
    "    return(\"Common number on common index: \" + str(same_idx) + \" - \" + \"Total occurence: \" + str(common))\n",
    "    \n",
    "LinkedList.common_idx = common_idx"
   ]
  },
  {
   "cell_type": "code",
   "execution_count": 11,
   "metadata": {},
   "outputs": [
    {
     "data": {
      "text/plain": [
       "'Common number on common index: 1 - Total occurence: 4'"
      ]
     },
     "execution_count": 11,
     "metadata": {},
     "output_type": "execute_result"
    }
   ],
   "source": [
    "l.common_idx(l2)"
   ]
  },
  {
   "cell_type": "code",
   "execution_count": null,
   "metadata": {},
   "outputs": [],
   "source": []
  }
 ],
 "metadata": {
  "kernelspec": {
   "display_name": "Python 3",
   "language": "python",
   "name": "python3"
  },
  "language_info": {
   "codemirror_mode": {
    "name": "ipython",
    "version": 3
   },
   "file_extension": ".py",
   "mimetype": "text/x-python",
   "name": "python",
   "nbconvert_exporter": "python",
   "pygments_lexer": "ipython3",
   "version": "3.7.4"
  }
 },
 "nbformat": 4,
 "nbformat_minor": 2
}
