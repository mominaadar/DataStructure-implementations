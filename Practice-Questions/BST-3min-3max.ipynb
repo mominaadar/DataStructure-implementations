{
 "cells": [
  {
   "cell_type": "code",
   "execution_count": 1,
   "metadata": {},
   "outputs": [],
   "source": [
    "class TreeNode:\n",
    "    def __init__(self,val):\n",
    "        self.val = val\n",
    "        self.right = None\n",
    "        self.left = None"
   ]
  },
  {
   "cell_type": "code",
   "execution_count": 2,
   "metadata": {},
   "outputs": [],
   "source": [
    "class BST(TreeNode):\n",
    "    def __init__(self,val,parent=None):\n",
    "        super().__init__(val)\n",
    "        self.parent = parent"
   ]
  },
  {
   "cell_type": "code",
   "execution_count": 4,
   "metadata": {},
   "outputs": [],
   "source": [
    "def print_tree(tree, level=0, label='.'): \n",
    "    print(' ' * (level*2) + label + ':', tree.val)\n",
    "    for child, lbl in zip([tree.left, tree.right], ['L', 'R']):  # do for all children \n",
    "        if child is not None:\n",
    "            print_tree(child, level+1, lbl)"
   ]
  },
  {
   "cell_type": "code",
   "execution_count": 5,
   "metadata": {},
   "outputs": [],
   "source": [
    "def insert(self,val):\n",
    "    if val < self.val:\n",
    "        \n",
    "        if self.left is None:\n",
    "            self.left = BST(val, parent=self)\n",
    "            return \n",
    "        else:\n",
    "            self.left.insert(val)\n",
    "    elif val > self.val:\n",
    "        \n",
    "        if self.right is None:\n",
    "            self.right = BST(val, parent=self)\n",
    "            return\n",
    "        else:\n",
    "            self.right.insert(val)\n",
    "    \n",
    "BST.insert = insert"
   ]
  },
  {
   "cell_type": "code",
   "execution_count": 52,
   "metadata": {},
   "outputs": [],
   "source": [
    "b = BST(15)\n",
    "b.insert(10)\n",
    "b.insert(25)\n",
    "b.insert(4)\n",
    "b.insert(21)\n",
    "b.insert(2)\n",
    "b.insert(5)\n",
    "b.insert(3)\n",
    "b.insert(6)\n",
    "b.insert(78)"
   ]
  },
  {
   "cell_type": "code",
   "execution_count": 53,
   "metadata": {},
   "outputs": [
    {
     "name": "stdout",
     "output_type": "stream",
     "text": [
      ".: 15\n",
      "  L: 10\n",
      "    L: 4\n",
      "      L: 2\n",
      "        R: 3\n",
      "      R: 5\n",
      "        R: 6\n",
      "  R: 25\n",
      "    L: 21\n",
      "    R: 78\n"
     ]
    }
   ],
   "source": [
    "print_tree(b)"
   ]
  },
  {
   "cell_type": "code",
   "execution_count": 54,
   "metadata": {},
   "outputs": [],
   "source": [
    "class DummyC:\n",
    "    def __init__(self):\n",
    "        self.first_min = float('inf')\n",
    "        self.second_min = float('inf')\n",
    "        self.third_min = float('inf')\n",
    "        self.first_max = 0\n",
    "        self.second_max = 0\n",
    "        self.third_max = 0"
   ]
  },
  {
   "cell_type": "code",
   "execution_count": 55,
   "metadata": {},
   "outputs": [],
   "source": [
    "d = DummyC()"
   ]
  },
  {
   "cell_type": "code",
   "execution_count": 56,
   "metadata": {},
   "outputs": [],
   "source": [
    "def find_min(self, d):\n",
    "    \n",
    "    if self.left:\n",
    "        self.left.find_min(d)\n",
    "        \n",
    "    if self.val < d.first_min:\n",
    "        d.first_min = self.val\n",
    "    elif self.val > d.first_min and self.val < d.second_min:\n",
    "        d.second_min = self.val\n",
    "    elif self.val > d.second_min and self.val < d.third_min:\n",
    "        d.third_min = self.val\n",
    "        \n",
    "    if self.right:\n",
    "        self.right.find_min(d)\n",
    "    \n",
    "    return d.first_min, d.second_min, d.third_min\n",
    "    \n",
    "BST.find_min = find_min"
   ]
  },
  {
   "cell_type": "code",
   "execution_count": 57,
   "metadata": {},
   "outputs": [
    {
     "data": {
      "text/plain": [
       "(2, 3, 4)"
      ]
     },
     "execution_count": 57,
     "metadata": {},
     "output_type": "execute_result"
    }
   ],
   "source": [
    "b.find_min(d)"
   ]
  },
  {
   "cell_type": "code",
   "execution_count": 58,
   "metadata": {},
   "outputs": [],
   "source": [
    "def find_max(self,d):\n",
    "    if self.right:\n",
    "        self.right.find_max(d)\n",
    "        \n",
    "    if self.val > d.first_max:\n",
    "        d.first_max = self.val\n",
    "    elif self.val < d.first_max and self.val > d.second_max:\n",
    "        d.second_max = self.val\n",
    "    elif self.val < d.second_max and self.val > d.third_max:\n",
    "        d.third_max = self.val\n",
    "        \n",
    "    if self.left:\n",
    "        self.left.find_max(d)\n",
    "    \n",
    "    return d.first_max, d.second_max, d.third_max\n",
    "    \n",
    "BST.find_max = find_max"
   ]
  },
  {
   "cell_type": "code",
   "execution_count": 59,
   "metadata": {},
   "outputs": [
    {
     "data": {
      "text/plain": [
       "(78, 25, 21)"
      ]
     },
     "execution_count": 59,
     "metadata": {},
     "output_type": "execute_result"
    }
   ],
   "source": [
    "b.find_max(d)"
   ]
  },
  {
   "cell_type": "code",
   "execution_count": null,
   "metadata": {},
   "outputs": [],
   "source": []
  }
 ],
 "metadata": {
  "kernelspec": {
   "display_name": "Python 3",
   "language": "python",
   "name": "python3"
  },
  "language_info": {
   "codemirror_mode": {
    "name": "ipython",
    "version": 3
   },
   "file_extension": ".py",
   "mimetype": "text/x-python",
   "name": "python",
   "nbconvert_exporter": "python",
   "pygments_lexer": "ipython3",
   "version": "3.7.4"
  }
 },
 "nbformat": 4,
 "nbformat_minor": 2
}
