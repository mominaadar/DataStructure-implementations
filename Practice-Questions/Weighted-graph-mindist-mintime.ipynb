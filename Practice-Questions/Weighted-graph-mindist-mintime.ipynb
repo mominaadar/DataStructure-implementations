{
 "cells": [
  {
   "cell_type": "code",
   "execution_count": 4,
   "metadata": {},
   "outputs": [],
   "source": [
    "import networkx as nx\n",
    "import matplotlib.pyplot as plt\n",
    "\n",
    "# for notebook http://localhost:8888/notebooks/19-graphs-weighted.ipynb#\n",
    "%matplotlib inline \n",
    "import warnings\n",
    "warnings.filterwarnings(\"ignore\")"
   ]
  },
  {
   "cell_type": "code",
   "execution_count": 5,
   "metadata": {},
   "outputs": [],
   "source": [
    "def draw_graph_with_nx(G): \n",
    "    pos = nx.spring_layout(G, iterations=200)\n",
    "    options = {'node_color': 'white', 'alpha': 1, 'node_size': 2000, 'width': 0.002, 'font_color': 'darkred', \n",
    "               'font_size': 25, 'arrows': True, 'edge_color': 'brown',\n",
    "               'arrowstyle': 'Fancy, head_length=1, head_width=1, tail_width=.4'\n",
    "              }\n",
    "    labels = nx.get_node_attributes(G, 'label')\n",
    "    weight_labels = nx.get_edge_attributes(G, 'weight')\n",
    "    nx.draw(G, pos, labels=labels,  **options)\n",
    "    nx.draw_networkx_edge_labels(G, pos, edge_labels=weight_labels, font_size=15)\n",
    "    plt.show()"
   ]
  },
  {
   "cell_type": "code",
   "execution_count": 6,
   "metadata": {},
   "outputs": [],
   "source": [
    "class Weighted:\n",
    "    def __init__(self):\n",
    "        self.g = {}\n",
    "        \n",
    "    def add_node(self,node):\n",
    "        if node in self.g:\n",
    "            raise ValueError(\"Already exists\")\n",
    "        \n",
    "        self.g[node] = []\n",
    "        \n",
    "    def add_edge(self,src,dest,minutes,kms):\n",
    "        if src not in self.g or dest not in self.g:\n",
    "            raise ValueError(\"Src/dest not found\")\n",
    "            \n",
    "        children = self.g[src]\n",
    "        if dest not in children:\n",
    "            children.append((dest,minutes,kms))\n",
    "        \n",
    "    \n",
    "    def draw_graph(self): \n",
    "        G = nx.DiGraph()\n",
    "        for src in self.g: \n",
    "            G.add_node(src, label=src) \n",
    "            for dest in self.g[src]:\n",
    "                G.add_edge(src, dest[0], weight=str(dest[1]))\n",
    "                \n",
    "        draw_graph_with_nx(G)"
   ]
  },
  {
   "cell_type": "code",
   "execution_count": 7,
   "metadata": {},
   "outputs": [],
   "source": [
    "w = Weighted()\n",
    "w.add_node('Isd')\n",
    "w.add_node('Pwr')\n",
    "w.add_node('Grw')\n",
    "w.add_node('Lhr')\n",
    "w.add_node('Fsd')\n",
    "w.add_node('Mlt')\n",
    "w.add_node('Skr')\n",
    "w.add_node('Hyd')\n",
    "w.add_node('Khi')\n",
    "w.add_node('Bannu')\n",
    "w.add_node('Qta')\n",
    "w.add_node('Mianw')"
   ]
  },
  {
   "cell_type": "code",
   "execution_count": 8,
   "metadata": {},
   "outputs": [],
   "source": [
    "w.add_edge('Isd','Pwr',140,180)\n",
    "w.add_edge('Pwr','Grw',360,390)\n",
    "w.add_edge('Grw','Lhr',130,96)\n",
    "w.add_edge('Grw','Fsd',200,174)\n",
    "w.add_edge('Lhr','Mlt',260,345)\n",
    "w.add_edge('Fsd','Mlt',200,240)\n",
    "w.add_edge('Mlt','Skr',400,440)\n",
    "w.add_edge('Skr','Hyd',290,330)\n",
    "w.add_edge('Hyd','Khi',160,162)\n",
    "w.add_edge('Pwr','Bannu',200,174)\n",
    "w.add_edge('Bannu','Qta',660,683)\n",
    "w.add_edge('Qta','Skr',320,390)\n",
    "w.add_edge('Pwr','Mianw',290,240)\n",
    "w.add_edge('Mianw','Mlt',320,299)\n",
    "w.add_edge('Isd','Grw',230,220)\n",
    "w.add_edge('Isd','Lhr',260,375)"
   ]
  },
  {
   "cell_type": "code",
   "execution_count": 10,
   "metadata": {},
   "outputs": [
    {
     "name": "stdout",
     "output_type": "stream",
     "text": [
      "{'Bannu': [('Qta', 660, 683)],\n",
      " 'Fsd': [('Mlt', 200, 240)],\n",
      " 'Grw': [('Lhr', 130, 96), ('Fsd', 200, 174)],\n",
      " 'Hyd': [('Khi', 160, 162)],\n",
      " 'Isd': [('Pwr', 140, 180), ('Grw', 230, 220), ('Lhr', 260, 375)],\n",
      " 'Khi': [],\n",
      " 'Lhr': [('Mlt', 260, 345)],\n",
      " 'Mianw': [('Mlt', 320, 299)],\n",
      " 'Mlt': [('Skr', 400, 440)],\n",
      " 'Pwr': [('Grw', 360, 390), ('Bannu', 200, 174), ('Mianw', 290, 240)],\n",
      " 'Qta': [('Skr', 320, 390)],\n",
      " 'Skr': [('Hyd', 290, 330)]}\n"
     ]
    }
   ],
   "source": [
    "import pprint\n",
    "pprint.pprint(w.g)"
   ]
  },
  {
   "cell_type": "code",
   "execution_count": 11,
   "metadata": {},
   "outputs": [],
   "source": [
    "def dist(self,path):\n",
    "    dist = 0\n",
    "    \n",
    "    for i in range(len(path)):\n",
    "        city = path[i]\n",
    "        next_cities = self.g[city]\n",
    "        \n",
    "        for j in range(len(next_cities)):\n",
    "            if path[i+1] == next_cities[j][0]:\n",
    "                dist += next_cities[j][2]\n",
    "            else:\n",
    "                continue\n",
    "    \n",
    "    return dist\n",
    "Weighted.dist = dist"
   ]
  },
  {
   "cell_type": "code",
   "execution_count": 12,
   "metadata": {},
   "outputs": [],
   "source": [
    "def find_shortest_dijkstra(self, src, dest): \n",
    "    to_visit = list( self.g.keys() ) \n",
    "\n",
    "    inf = float('inf')   # that's python for infinity \n",
    "    dists = { node: inf for node in to_visit }\n",
    "    dists[src] = 0 \n",
    "\n",
    "    best_paths = {} \n",
    "    best_paths[(src, src)] = [src]  # no move \n",
    "    \n",
    "    while to_visit: \n",
    "\n",
    "        current = min(to_visit, key=lambda node: dists[node])   \n",
    "        \n",
    "        if dists[current] == inf: \n",
    "            break \n",
    "    \n",
    "        nexts = self.g[current]\n",
    "        unvisited_neighbors = [] \n",
    "        for n in nexts: \n",
    "            if n[0] in to_visit:    # recall that n is e.g. ('b', 5)\n",
    "                unvisited_neighbors.append(n)\n",
    "        \n",
    "        for n in unvisited_neighbors: \n",
    "            label = n[0]\n",
    "            dist_to = n[1]\n",
    "            \n",
    "            old_distance = dists[label]\n",
    "            new_distance = dists[current] + dist_to\n",
    "            \n",
    "            if new_distance < old_distance: \n",
    "                dists[label] = new_distance \n",
    "                \n",
    "                path_to_current = best_paths[(src, current)][:]   # need a copy \n",
    "                best_paths[(src, label)] = path_to_current\n",
    "                best_paths[(src, label)].append(label)\n",
    "\n",
    "        to_visit.remove(current)\n",
    "        \n",
    "    kms = self.dist(best_paths[src,dest])\n",
    "                \n",
    "    return (\"Path: \" + str(best_paths[(src, dest)]) + \" Min Time: \" + str(dists[dest])) + \", Min Distance: \" + str(kms)\n",
    "\n",
    "Weighted.find_shortest_dijkstra = find_shortest_dijkstra"
   ]
  },
  {
   "cell_type": "code",
   "execution_count": 13,
   "metadata": {},
   "outputs": [
    {
     "data": {
      "text/plain": [
       "\"Path: ['Isd', 'Lhr', 'Mlt', 'Skr', 'Hyd', 'Khi'] Min Time: 1370, Min Distance: 1652\""
      ]
     },
     "execution_count": 13,
     "metadata": {},
     "output_type": "execute_result"
    }
   ],
   "source": [
    "w.find_shortest_dijkstra('Isd','Khi')"
   ]
  },
  {
   "cell_type": "code",
   "execution_count": null,
   "metadata": {},
   "outputs": [],
   "source": []
  }
 ],
 "metadata": {
  "kernelspec": {
   "display_name": "Python 3",
   "language": "python",
   "name": "python3"
  },
  "language_info": {
   "codemirror_mode": {
    "name": "ipython",
    "version": 3
   },
   "file_extension": ".py",
   "mimetype": "text/x-python",
   "name": "python",
   "nbconvert_exporter": "python",
   "pygments_lexer": "ipython3",
   "version": "3.7.4"
  }
 },
 "nbformat": 4,
 "nbformat_minor": 2
}
