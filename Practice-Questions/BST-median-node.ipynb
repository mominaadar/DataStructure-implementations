{
 "cells": [
  {
   "cell_type": "code",
   "execution_count": 16,
   "metadata": {},
   "outputs": [],
   "source": [
    "class TreeNode:\n",
    "    def __init__(self,val):\n",
    "        self.val = val \n",
    "        self.right = None\n",
    "        self.left = None"
   ]
  },
  {
   "cell_type": "code",
   "execution_count": 17,
   "metadata": {},
   "outputs": [],
   "source": [
    "class BST(TreeNode):\n",
    "    def __init__(self,val,parent= None):\n",
    "        super().__init__(val)\n",
    "        self.parent = parent"
   ]
  },
  {
   "cell_type": "code",
   "execution_count": 18,
   "metadata": {},
   "outputs": [],
   "source": [
    "def print_tree(tree, level=0, label='.'): \n",
    "    print(' ' * (level*2) + label + ':' , tree.val)\n",
    "    for child, lbl in zip([tree.left, tree.right], ['L', 'R']):  # do for all children \n",
    "        if child is not None:\n",
    "            print_tree(child, level+1, lbl)"
   ]
  },
  {
   "cell_type": "code",
   "execution_count": 19,
   "metadata": {},
   "outputs": [],
   "source": [
    "def insert(self,val):\n",
    "    if val < self.val:\n",
    "        if self.left is None:\n",
    "            new_node = BST(val,parent = self)\n",
    "            self.left = new_node\n",
    "        else:\n",
    "            self.left.insert(val)\n",
    "    elif val > self.val:\n",
    "        if self.right is None:\n",
    "            new_node = BST(val, parent = self)\n",
    "            self.right = new_node\n",
    "        else:\n",
    "            self.right.insert(val)\n",
    "\n",
    "BST.insert = insert"
   ]
  },
  {
   "cell_type": "code",
   "execution_count": 31,
   "metadata": {},
   "outputs": [
    {
     "name": "stdout",
     "output_type": "stream",
     "text": [
      ".: 1\n",
      "  R: 2\n",
      "    R: 3\n",
      "      R: 10\n",
      "        L: 6\n",
      "        R: 22\n",
      "          L: 19\n",
      "          R: 43\n"
     ]
    }
   ],
   "source": [
    "b = BST(1)\n",
    "b.insert(2)\n",
    "b.insert(3)\n",
    "b.insert(10)\n",
    "b.insert(6)\n",
    "b.insert(22)\n",
    "b.insert(19)\n",
    "b.insert(43)\n",
    "print_tree(b)"
   ]
  },
  {
   "cell_type": "code",
   "execution_count": 34,
   "metadata": {},
   "outputs": [],
   "source": [
    "def get_median(self, n):\n",
    "    if n % 2 == 0:\n",
    "        return n / 2\n",
    "    \n",
    "    else:\n",
    "        \n",
    "        return (n+1) / 2\n",
    "    \n",
    "BST.get_median = get_median"
   ]
  },
  {
   "cell_type": "code",
   "execution_count": 37,
   "metadata": {},
   "outputs": [],
   "source": [
    "def median_node(self, median):\n",
    "    count = 0\n",
    "    lst = [self]\n",
    "    \n",
    "    while lst:\n",
    "        current = lst.pop(0)\n",
    "        count += 1\n",
    "        \n",
    "        if current.left:\n",
    "            lst.append(current.left)\n",
    "            \n",
    "        if current.right:\n",
    "            lst.append(current.right)\n",
    "            \n",
    "        if count == median:\n",
    "            return \"Median: \" + str(count) + \" Value: \" + str(current.val)\n",
    "        \n",
    "BST.median_node = median_node"
   ]
  },
  {
   "cell_type": "code",
   "execution_count": 38,
   "metadata": {},
   "outputs": [
    {
     "data": {
      "text/plain": [
       "'Median: 4 Value: 10'"
      ]
     },
     "execution_count": 38,
     "metadata": {},
     "output_type": "execute_result"
    }
   ],
   "source": [
    "b.median_node(b.get_median(b.count_nodes()))"
   ]
  },
  {
   "cell_type": "code",
   "execution_count": null,
   "metadata": {},
   "outputs": [],
   "source": []
  }
 ],
 "metadata": {
  "kernelspec": {
   "display_name": "Python 3",
   "language": "python",
   "name": "python3"
  },
  "language_info": {
   "codemirror_mode": {
    "name": "ipython",
    "version": 3
   },
   "file_extension": ".py",
   "mimetype": "text/x-python",
   "name": "python",
   "nbconvert_exporter": "python",
   "pygments_lexer": "ipython3",
   "version": "3.7.4"
  }
 },
 "nbformat": 4,
 "nbformat_minor": 2
}
