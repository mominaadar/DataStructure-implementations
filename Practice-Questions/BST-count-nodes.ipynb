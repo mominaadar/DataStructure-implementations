{
 "cells": [
  {
   "cell_type": "code",
   "execution_count": 10,
   "metadata": {},
   "outputs": [],
   "source": [
    "class TreeNode:\n",
    "    def __init__(self,val):\n",
    "        self.val = val \n",
    "        self.right = None\n",
    "        self.left = None"
   ]
  },
  {
   "cell_type": "code",
   "execution_count": 11,
   "metadata": {},
   "outputs": [],
   "source": [
    "class BST(TreeNode):\n",
    "    def __init__(self,val,parent= None):\n",
    "        super().__init__(val)\n",
    "        self.parent = parent"
   ]
  },
  {
   "cell_type": "code",
   "execution_count": 12,
   "metadata": {},
   "outputs": [],
   "source": [
    "def print_tree(tree, level=0, label='.'): \n",
    "    print(' ' * (level*2) + label + ':' , tree.val)\n",
    "    for child, lbl in zip([tree.left, tree.right], ['L', 'R']):  # do for all children \n",
    "        if child is not None:\n",
    "            print_tree(child, level+1, lbl)"
   ]
  },
  {
   "cell_type": "code",
   "execution_count": 13,
   "metadata": {},
   "outputs": [],
   "source": [
    "def insert(self,val):\n",
    "    if val < self.val:\n",
    "        if self.left is None:\n",
    "            new_node = BST(val,parent = self)\n",
    "            self.left = new_node\n",
    "        else:\n",
    "            self.left.insert(val)\n",
    "    elif val > self.val:\n",
    "        if self.right is None:\n",
    "            new_node = BST(val, parent = self)\n",
    "            self.right = new_node\n",
    "        else:\n",
    "            self.right.insert(val)\n",
    "\n",
    "BST.insert = insert"
   ]
  },
  {
   "cell_type": "code",
   "execution_count": 25,
   "metadata": {},
   "outputs": [
    {
     "name": "stdout",
     "output_type": "stream",
     "text": [
      ".: 1\n",
      "  R: 2\n",
      "    R: 3\n",
      "      R: 10\n",
      "        L: 6\n",
      "        R: 22\n",
      "          L: 19\n",
      "          R: 43\n",
      "            R: 56\n"
     ]
    }
   ],
   "source": [
    "b = BST(1)\n",
    "b.insert(2)\n",
    "b.insert(3)\n",
    "b.insert(10)\n",
    "b.insert(6)\n",
    "b.insert(22)\n",
    "b.insert(19)\n",
    "b.insert(43)\n",
    "b.insert(56)\n",
    "print_tree(b)"
   ]
  },
  {
   "cell_type": "code",
   "execution_count": 26,
   "metadata": {},
   "outputs": [],
   "source": [
    "def count_nodes_recursive(self):\n",
    "    count = 1\n",
    "    left_node = 0\n",
    "    right_node = 0\n",
    "    \n",
    "    if self.left:\n",
    "        left_node = self.left.count_nodes_recursive()\n",
    "        \n",
    "    if self.right:\n",
    "        right_node = self.right.count_nodes_recursive()\n",
    "        \n",
    "    return left_node + right_node + count\n",
    "\n",
    "BST.count_nodes_recursive = count_nodes_recursive"
   ]
  },
  {
   "cell_type": "code",
   "execution_count": 27,
   "metadata": {},
   "outputs": [
    {
     "data": {
      "text/plain": [
       "9"
      ]
     },
     "execution_count": 27,
     "metadata": {},
     "output_type": "execute_result"
    }
   ],
   "source": [
    "b.count_nodes_recursive()"
   ]
  },
  {
   "cell_type": "code",
   "execution_count": 28,
   "metadata": {},
   "outputs": [],
   "source": [
    "def count_nodes_bfs(self):\n",
    "    count = 0\n",
    "    lst = [self]\n",
    "    \n",
    "    while lst:\n",
    "        current = lst.pop(0)\n",
    "        count += 1\n",
    "        \n",
    "        if current.left:\n",
    "            lst.append(current.left)\n",
    "            \n",
    "        if current.right:\n",
    "            lst.append(current.right)\n",
    "            \n",
    "    return count\n",
    "        \n",
    "BST.count_nodes_bfs = count_nodes_bfs"
   ]
  },
  {
   "cell_type": "code",
   "execution_count": 29,
   "metadata": {},
   "outputs": [
    {
     "data": {
      "text/plain": [
       "9"
      ]
     },
     "execution_count": 29,
     "metadata": {},
     "output_type": "execute_result"
    }
   ],
   "source": [
    "b.count_nodes_bfs()"
   ]
  },
  {
   "cell_type": "code",
   "execution_count": null,
   "metadata": {},
   "outputs": [],
   "source": []
  }
 ],
 "metadata": {
  "kernelspec": {
   "display_name": "Python 3",
   "language": "python",
   "name": "python3"
  },
  "language_info": {
   "codemirror_mode": {
    "name": "ipython",
    "version": 3
   },
   "file_extension": ".py",
   "mimetype": "text/x-python",
   "name": "python",
   "nbconvert_exporter": "python",
   "pygments_lexer": "ipython3",
   "version": "3.7.4"
  }
 },
 "nbformat": 4,
 "nbformat_minor": 2
}
