{
 "cells": [
  {
   "cell_type": "code",
   "execution_count": 1,
   "metadata": {},
   "outputs": [],
   "source": [
    "class TreeNode:\n",
    "    def __init__(self,val):\n",
    "        self.val = val \n",
    "        self.right = None\n",
    "        self.left = None"
   ]
  },
  {
   "cell_type": "code",
   "execution_count": 2,
   "metadata": {},
   "outputs": [],
   "source": [
    "class BST(TreeNode):\n",
    "    def __init__(self,val,parent= None):\n",
    "        super().__init__(val)\n",
    "        self.parent = parent"
   ]
  },
  {
   "cell_type": "code",
   "execution_count": 3,
   "metadata": {},
   "outputs": [],
   "source": [
    "def print_tree(tree, level=0, label='.'): \n",
    "    print(' ' * (level*2) + label + ':' , tree.val)\n",
    "    for child, lbl in zip([tree.left, tree.right], ['L', 'R']):  # do for all children \n",
    "        if child is not None:\n",
    "            print_tree(child, level+1, lbl)"
   ]
  },
  {
   "cell_type": "code",
   "execution_count": 4,
   "metadata": {},
   "outputs": [],
   "source": [
    "def insert(self,val):\n",
    "    if val < self.val:\n",
    "        if self.left is None:\n",
    "            new_node = BST(val,parent = self)\n",
    "            self.left = new_node\n",
    "        else:\n",
    "            self.left.insert(val)\n",
    "    elif val > self.val:\n",
    "        if self.right is None:\n",
    "            new_node = BST(val, parent = self)\n",
    "            self.right = new_node\n",
    "        else:\n",
    "            self.right.insert(val)\n",
    "\n",
    "BST.insert = insert"
   ]
  },
  {
   "cell_type": "code",
   "execution_count": 7,
   "metadata": {},
   "outputs": [],
   "source": [
    "class DummyC:\n",
    "    def __init__(self):\n",
    "        self.height = 0\n",
    "        self.real_height = 0\n",
    "        self.actual_height = 0\n",
    "        \n",
    "        \n",
    "    def reset_vals(self):\n",
    "        self.height = 0\n",
    "        self.real_height = 0\n",
    "        \n",
    "d = DummyC()"
   ]
  },
  {
   "cell_type": "code",
   "execution_count": 23,
   "metadata": {},
   "outputs": [
    {
     "name": "stdout",
     "output_type": "stream",
     "text": [
      ".: 1\n",
      "  R: 87\n",
      "    L: 2\n",
      "      R: 3\n",
      "        R: 10\n",
      "          L: 6\n",
      "          R: 22\n",
      "            L: 19\n",
      "            R: 43\n",
      "              R: 56\n"
     ]
    }
   ],
   "source": [
    "b = BST(1)\n",
    "b.insert(87)\n",
    "b.insert(2)\n",
    "b.insert(3)\n",
    "b.insert(10)\n",
    "b.insert(22)\n",
    "b.insert(43)\n",
    "b.insert(6)\n",
    "b.insert(19)\n",
    "b.insert(56)\n",
    "print_tree(b)"
   ]
  },
  {
   "cell_type": "code",
   "execution_count": 24,
   "metadata": {},
   "outputs": [],
   "source": [
    "def tree_height(self, d):\n",
    "    if self.left:\n",
    "        d.height += 1\n",
    "        self.left.tree_height(d)\n",
    "        d.height -= 1\n",
    "    \n",
    "    if self.left is None and self.right is None:\n",
    "        if d.real_height < d.height:\n",
    "            d.real_height = d.height\n",
    "        \n",
    "    if self.right:\n",
    "        d.height += 1\n",
    "        self.right.tree_height(d)\n",
    "        d.height -= 1\n",
    "    \n",
    "    return 'Height of tree: ' + str(d.real_height + 1)\n",
    "\n",
    "BST.tree_height = tree_height"
   ]
  },
  {
   "cell_type": "code",
   "execution_count": 25,
   "metadata": {},
   "outputs": [
    {
     "data": {
      "text/plain": [
       "'Height of tree: 8'"
      ]
     },
     "execution_count": 25,
     "metadata": {},
     "output_type": "execute_result"
    }
   ],
   "source": [
    "d.reset_vals()\n",
    "b.tree_height(d)"
   ]
  },
  {
   "cell_type": "code",
   "execution_count": 26,
   "metadata": {},
   "outputs": [],
   "source": [
    "def nearest_leaf(self, d):\n",
    "    \n",
    "    if self.left:\n",
    "        d.height += 1\n",
    "        self.left.nearest_leaf(d)\n",
    "        d.height -= 1\n",
    "    \n",
    "    if self.left is None and self.right is None:\n",
    "    \n",
    "    \n",
    "        if d.actual_height == 0:\n",
    "            d.actual_height = d.height\n",
    "\n",
    "        if d.actual_height >= d.height:\n",
    "            d.actual_height = d.height #actual_height = 4\n",
    "            print(\"Nearest leaf value: \" + str(self.val))\n",
    "\n",
    "    if self.right:\n",
    "        d.height += 1\n",
    "        self.right.nearest_leaf(d)\n",
    "        d.height -= 1\n",
    "    \n",
    "    return 'Nearest Leaf at height: ' + str(d.actual_height)\n",
    "\n",
    "BST.nearest_leaf = nearest_leaf"
   ]
  },
  {
   "cell_type": "code",
   "execution_count": 27,
   "metadata": {},
   "outputs": [
    {
     "name": "stdout",
     "output_type": "stream",
     "text": [
      "Nearest leaf value: 6\n"
     ]
    },
    {
     "data": {
      "text/plain": [
       "'Nearest Leaf at height: 5'"
      ]
     },
     "execution_count": 27,
     "metadata": {},
     "output_type": "execute_result"
    }
   ],
   "source": [
    "b.nearest_leaf(d)"
   ]
  },
  {
   "cell_type": "markdown",
   "metadata": {},
   "source": [
    "# EXTRA"
   ]
  },
  {
   "cell_type": "code",
   "execution_count": 13,
   "metadata": {},
   "outputs": [],
   "source": [
    "def near_leaf(self, d):\n",
    "    \n",
    "    \n",
    "    if self.left:\n",
    "        d.height += 1\n",
    "        self.left.near_leaf(d)\n",
    "        d.height -= 1\n",
    "    \n",
    "    if self.left is None and self.right is None:\n",
    "        if d.actual_height > d.height:\n",
    "            d.actual_height = d.height #actual_height = 4\n",
    "            print('Value of nearest leaf node: '+ str(self.val) )\n",
    "        \n",
    "    if self.right:\n",
    "        d.height += 1\n",
    "        self.right.near_leaf(d)\n",
    "        d.height -= 1\n",
    "    \n",
    "    return 'Nearest Leaf at height: ' + str(d.actual_height)\n",
    "\n",
    "BST.near_leaf = near_leaf"
   ]
  },
  {
   "cell_type": "code",
   "execution_count": 14,
   "metadata": {},
   "outputs": [
    {
     "data": {
      "text/plain": [
       "'Nearest Leaf at height: 5'"
      ]
     },
     "execution_count": 14,
     "metadata": {},
     "output_type": "execute_result"
    }
   ],
   "source": [
    "b.near_leaf(d)"
   ]
  },
  {
   "cell_type": "code",
   "execution_count": null,
   "metadata": {},
   "outputs": [],
   "source": [
    "def count_nodes(self):\n",
    "    count = 1\n",
    "    left_count = 0\n",
    "    right_count = 0\n",
    "    \n",
    "    if self.left:\n",
    "        left_count = self.left.count_nodes()\n",
    "        \n",
    "    if self.right:\n",
    "        right_count = self.right.count_nodes()\n",
    "        \n",
    "    \n",
    "    return count + left_count + right_count\n",
    "    \n",
    "\n",
    "BST.count_nodes = count_nodes"
   ]
  }
 ],
 "metadata": {
  "kernelspec": {
   "display_name": "Python 3",
   "language": "python",
   "name": "python3"
  },
  "language_info": {
   "codemirror_mode": {
    "name": "ipython",
    "version": 3
   },
   "file_extension": ".py",
   "mimetype": "text/x-python",
   "name": "python",
   "nbconvert_exporter": "python",
   "pygments_lexer": "ipython3",
   "version": "3.7.4"
  }
 },
 "nbformat": 4,
 "nbformat_minor": 2
}
