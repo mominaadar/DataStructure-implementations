{
 "cells": [
  {
   "cell_type": "code",
   "execution_count": 14,
   "metadata": {},
   "outputs": [],
   "source": [
    "class Node:\n",
    "    def __init__(self, val=None):\n",
    "        self.val = val\n",
    "        self.next = None"
   ]
  },
  {
   "cell_type": "code",
   "execution_count": 15,
   "metadata": {},
   "outputs": [],
   "source": [
    "class LinkedList:\n",
    "    def __init__(self):\n",
    "        self.head = None"
   ]
  },
  {
   "cell_type": "code",
   "execution_count": 16,
   "metadata": {},
   "outputs": [],
   "source": [
    "def push(self, val):\n",
    "    new_node = Node(val)\n",
    "    \n",
    "    if self.head is None:\n",
    "        self.head = new_node\n",
    "        return \n",
    "    \n",
    "    temp = self.head\n",
    "    while temp.next is not None:\n",
    "        temp = temp.next\n",
    "        \n",
    "    temp.next = new_node\n",
    "    \n",
    "LinkedList.push = push"
   ]
  },
  {
   "cell_type": "code",
   "execution_count": 17,
   "metadata": {},
   "outputs": [],
   "source": [
    "def __str__(self):\n",
    "    ret_str = '['\n",
    "    temp = self.head\n",
    "    while temp:\n",
    "        ret_str += str(temp.val) + \", \"\n",
    "        temp = temp.next\n",
    "        \n",
    "    ret_str = ret_str.rstrip(', ')\n",
    "    ret_str = ret_str + ']'\n",
    "    return ret_str\n",
    "\n",
    "LinkedList.__str__ = __str__"
   ]
  },
  {
   "cell_type": "code",
   "execution_count": 18,
   "metadata": {},
   "outputs": [],
   "source": [
    "def length(self):\n",
    "    temp = self.head\n",
    "    count = 0\n",
    "    \n",
    "    while temp:\n",
    "        count += 1\n",
    "        temp = temp.next\n",
    "        \n",
    "    return count\n",
    "\n",
    "LinkedList.length = length"
   ]
  },
  {
   "cell_type": "code",
   "execution_count": 28,
   "metadata": {},
   "outputs": [],
   "source": [
    "l = LinkedList()\n",
    "l.push(5)\n",
    "l.push(9)\n",
    "l.push(12)\n",
    "l.push(6)\n",
    "\n",
    "l2 = LinkedList()\n",
    "l2.push(22)\n",
    "l2.push(15)\n",
    "l2.push(19)\n",
    "l2.push(24)\n",
    "l2.push(1)"
   ]
  },
  {
   "cell_type": "code",
   "execution_count": 29,
   "metadata": {},
   "outputs": [
    {
     "name": "stdout",
     "output_type": "stream",
     "text": [
      "[5, 9, 12, 6]\n",
      "[22, 15, 19, 24, 1]\n"
     ]
    }
   ],
   "source": [
    "print(l)\n",
    "print(l2)"
   ]
  },
  {
   "cell_type": "code",
   "execution_count": 30,
   "metadata": {},
   "outputs": [],
   "source": [
    "def any_val_less_than_all(self,l2):\n",
    "    t1 = self.head\n",
    "    t2 = l2.head\n",
    "    mark = 0\n",
    "    \n",
    "    for i in range(l2.length()):\n",
    "        t1 = self.head\n",
    "        while t1 is not None:\n",
    "            if t2.val < t1.val:\n",
    "                 mark = True\n",
    "            else:\n",
    "                mark = False\n",
    "                \n",
    "            t1 = t1.next\n",
    "        t2 = t2.next\n",
    "        \n",
    "    return mark\n",
    "\n",
    "LinkedList.any_val_less_than_all = any_val_less_than_all"
   ]
  },
  {
   "cell_type": "code",
   "execution_count": 31,
   "metadata": {},
   "outputs": [
    {
     "data": {
      "text/plain": [
       "False"
      ]
     },
     "execution_count": 31,
     "metadata": {},
     "output_type": "execute_result"
    }
   ],
   "source": [
    "l2.any_val_less_than_all(l)"
   ]
  },
  {
   "cell_type": "code",
   "execution_count": 32,
   "metadata": {},
   "outputs": [
    {
     "data": {
      "text/plain": [
       "True"
      ]
     },
     "execution_count": 32,
     "metadata": {},
     "output_type": "execute_result"
    }
   ],
   "source": [
    "l.any_val_less_than_all(l2)"
   ]
  },
  {
   "cell_type": "code",
   "execution_count": 33,
   "metadata": {},
   "outputs": [],
   "source": [
    "def lesser_than_all_vals(self,l2):\n",
    "    t1 = self.head\n",
    "    t2 = l2.head\n",
    "    count = 0\n",
    "    mark = False\n",
    "    \n",
    "    for i in range(l2.length()):\n",
    "        t1 = self.head\n",
    "        mark = False\n",
    "        \n",
    "        for j in range(self.length()):\n",
    "            if t2.val < t1.val:\n",
    "                if t1.next is not None:\n",
    "                    t1 = t1.next\n",
    "                    continue\n",
    "            else:\n",
    "                mark = True\n",
    "                break\n",
    "            \n",
    "        if mark is not True:\n",
    "            count += 1\n",
    "        \n",
    "        if t2.next is not None:\n",
    "            t2 = t2.next\n",
    "\n",
    "            \n",
    "    return count\n",
    "\n",
    "\n",
    "LinkedList.lesser_than_all_vals = lesser_than_all_vals"
   ]
  },
  {
   "cell_type": "code",
   "execution_count": 34,
   "metadata": {},
   "outputs": [
    {
     "data": {
      "text/plain": [
       "1"
      ]
     },
     "execution_count": 34,
     "metadata": {},
     "output_type": "execute_result"
    }
   ],
   "source": [
    "l.lesser_than_all_vals(l2)"
   ]
  },
  {
   "cell_type": "code",
   "execution_count": 35,
   "metadata": {},
   "outputs": [],
   "source": [
    "def greater_than_all_vals(self,l2):\n",
    "    t1 = self.head\n",
    "    t2 = l2.head\n",
    "    count = 0\n",
    "    mark = False\n",
    "    \n",
    "    for i in range(l2.length()):\n",
    "        t1 = self.head\n",
    "        mark = False\n",
    "        \n",
    "        for j in range(self.length()):\n",
    "            if t2.val > t1.val:\n",
    "                if t1.next is not None:\n",
    "                    t1 = t1.next\n",
    "                    continue\n",
    "            else:\n",
    "                mark = True\n",
    "                break\n",
    "            \n",
    "        if mark is not True:\n",
    "            count += 1\n",
    "        \n",
    "        if t2.next is not None:\n",
    "            t2 = t2.next\n",
    "\n",
    "            \n",
    "    return count\n",
    "\n",
    "\n",
    "LinkedList.greater_than_all_vals = greater_than_all_vals"
   ]
  },
  {
   "cell_type": "code",
   "execution_count": 36,
   "metadata": {},
   "outputs": [
    {
     "data": {
      "text/plain": [
       "4"
      ]
     },
     "execution_count": 36,
     "metadata": {},
     "output_type": "execute_result"
    }
   ],
   "source": [
    "l.greater_than_all_vals(l2)"
   ]
  },
  {
   "cell_type": "code",
   "execution_count": null,
   "metadata": {},
   "outputs": [],
   "source": []
  }
 ],
 "metadata": {
  "kernelspec": {
   "display_name": "Python 3",
   "language": "python",
   "name": "python3"
  },
  "language_info": {
   "codemirror_mode": {
    "name": "ipython",
    "version": 3
   },
   "file_extension": ".py",
   "mimetype": "text/x-python",
   "name": "python",
   "nbconvert_exporter": "python",
   "pygments_lexer": "ipython3",
   "version": "3.7.4"
  }
 },
 "nbformat": 4,
 "nbformat_minor": 2
}
