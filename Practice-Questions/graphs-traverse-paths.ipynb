{
 "cells": [
  {
   "cell_type": "code",
   "execution_count": 2,
   "metadata": {},
   "outputs": [],
   "source": [
    "import networkx as nx\n",
    "import matplotlib.pyplot as plt\n",
    "\n",
    "# for notebook http://localhost:8888/notebooks/19-graphs-weighted.ipynb#\n",
    "%matplotlib inline \n",
    "import warnings\n",
    "warnings.filterwarnings(\"ignore\")"
   ]
  },
  {
   "cell_type": "code",
   "execution_count": 3,
   "metadata": {},
   "outputs": [],
   "source": [
    "def draw_graph_with_nx(G): \n",
    "    pos = nx.spring_layout(G, iterations=200)\n",
    "    options = {'node_color': 'white', 'alpha': 1, 'node_size': 2000, 'width': 0.002, 'font_color': 'darkred', \n",
    "               'font_size': 25, 'arrows': True, 'edge_color': 'brown',\n",
    "               'arrowstyle': 'Fancy, head_length=1, head_width=1, tail_width=.4'\n",
    "              }\n",
    "    labels = nx.get_node_attributes(G, 'label')\n",
    "    nx.draw(G, pos, labels=labels,  **options)\n",
    "    plt.show()"
   ]
  },
  {
   "cell_type": "code",
   "execution_count": 4,
   "metadata": {},
   "outputs": [],
   "source": [
    "class Digraph:\n",
    "    def __init__(self):\n",
    "        self.g = {}\n",
    "        \n",
    "    def add_node(self,node):\n",
    "        if node in self.g:\n",
    "            raise ValueError(\"Source already exists\")\n",
    "\n",
    "        self.g[node] = []\n",
    "        \n",
    "    def add_edge(self,src,dest):\n",
    "        if src not in self.g and dest not in self.g:\n",
    "            raise ValueError('Source/Destination not found')\n",
    "\n",
    "        children = self.g[src]\n",
    "\n",
    "        if dest not in children:\n",
    "            children.append(dest)\n",
    "\n",
    "    def draw_graph(self): \n",
    "        G = nx.DiGraph()\n",
    "        for src in self.g: \n",
    "            G.add_node(src, label=src) \n",
    "            for dest in self.g[src]:\n",
    "                G.add_edge(src, dest)\n",
    "                \n",
    "        draw_graph_with_nx(G)"
   ]
  },
  {
   "cell_type": "code",
   "execution_count": 5,
   "metadata": {},
   "outputs": [],
   "source": [
    "g = Digraph()\n",
    "g.add_node('Isd')\n",
    "g.add_node('Pwr')\n",
    "g.add_node('Grw')\n",
    "g.add_node('Lhr')\n",
    "g.add_node('Fsd')\n",
    "g.add_node('Mlt')\n",
    "g.add_node('Skr')\n",
    "g.add_node('Hyd')\n",
    "g.add_node('Khi')\n",
    "g.add_node('Bannu')\n",
    "g.add_node('Qta')\n",
    "g.add_node('Mianw')"
   ]
  },
  {
   "cell_type": "code",
   "execution_count": 6,
   "metadata": {},
   "outputs": [
    {
     "name": "stdout",
     "output_type": "stream",
     "text": [
      "{'Isd': ['Pwr', 'Grw', 'Lhr'], 'Pwr': ['Grw', 'Bannu', 'Mianw'], 'Grw': ['Lhr', 'Fsd'], 'Lhr': ['Mlt'], 'Fsd': ['Mlt'], 'Mlt': ['Skr'], 'Skr': ['Hyd'], 'Hyd': ['Khi'], 'Khi': [], 'Bannu': ['Qta'], 'Qta': ['Skr'], 'Mianw': ['Mlt']}\n"
     ]
    }
   ],
   "source": [
    "g.add_edge('Isd','Pwr')\n",
    "g.add_edge('Pwr','Grw')\n",
    "g.add_edge('Grw','Lhr')\n",
    "g.add_edge('Grw','Fsd')\n",
    "g.add_edge('Lhr','Mlt')\n",
    "g.add_edge('Fsd','Mlt')\n",
    "g.add_edge('Mlt','Skr')\n",
    "g.add_edge('Skr','Hyd')\n",
    "g.add_edge('Hyd','Khi')\n",
    "g.add_edge('Pwr','Bannu')\n",
    "g.add_edge('Bannu','Qta')\n",
    "g.add_edge('Qta','Skr')\n",
    "g.add_edge('Pwr','Mianw')\n",
    "g.add_edge('Mianw','Mlt')\n",
    "g.add_edge('Isd','Grw')\n",
    "g.add_edge('Isd','Lhr')\n",
    "print(g.g)"
   ]
  },
  {
   "cell_type": "code",
   "execution_count": 7,
   "metadata": {},
   "outputs": [],
   "source": [
    "def traverse(self,src):\n",
    "    q = [src]\n",
    "    visited = []\n",
    "    \n",
    "    while q:\n",
    "        current = q.pop(0)\n",
    "        \n",
    "        if current in visited:\n",
    "            return\n",
    "        \n",
    "        print(current)\n",
    "        \n",
    "        visited.append(current)\n",
    "        \n",
    "        children = self.g[current]\n",
    "        \n",
    "        for i in children:\n",
    "            q.append(i)\n",
    "            \n",
    "Digraph.traverse = traverse"
   ]
  },
  {
   "cell_type": "code",
   "execution_count": 8,
   "metadata": {},
   "outputs": [
    {
     "name": "stdout",
     "output_type": "stream",
     "text": [
      "Isd\n",
      "Pwr\n",
      "Grw\n",
      "Lhr\n"
     ]
    }
   ],
   "source": [
    "g.traverse('Isd')"
   ]
  },
  {
   "cell_type": "code",
   "execution_count": 17,
   "metadata": {},
   "outputs": [],
   "source": [
    "def find_any_path(self,src,dest,path=[]):\n",
    "    if src not in self.g or dest not in self.g:\n",
    "        raise ValueError(\"Source/Destination not found\")\n",
    "        \n",
    "    path = path + [src]\n",
    "    \n",
    "    if src == dest:\n",
    "        return path\n",
    "    \n",
    "    for n in self.g[src]:\n",
    "        if n not in path:\n",
    "            new_path = self.find_any_path(n, dest, path)\n",
    "            if new_path:\n",
    "                return new_path\n",
    "            \n",
    "    return None\n",
    "\n",
    "Digraph.find_any_path = find_any_path"
   ]
  },
  {
   "cell_type": "code",
   "execution_count": 18,
   "metadata": {},
   "outputs": [
    {
     "data": {
      "text/plain": [
       "['Isd', 'Pwr', 'Grw', 'Lhr', 'Mlt', 'Skr', 'Hyd', 'Khi']"
      ]
     },
     "execution_count": 18,
     "metadata": {},
     "output_type": "execute_result"
    }
   ],
   "source": [
    "g.find_any_path('Isd','Khi')"
   ]
  },
  {
   "cell_type": "code",
   "execution_count": 11,
   "metadata": {},
   "outputs": [],
   "source": [
    "def find_all_paths(self,src,dest,path=[]):\n",
    "    if src not in self.g or dest not in self.g:\n",
    "        raise ValueError(\"Source/Destination not found\")\n",
    "        \n",
    "    path = path + [src]\n",
    "    \n",
    "    if src == dest:\n",
    "        return [path]\n",
    "    \n",
    "    all_path = []\n",
    "    \n",
    "    for n in self.g[src]:\n",
    "        if n not in path:\n",
    "            all_new_paths = self.find_all_paths(n,dest,path)\n",
    "            for i in all_new_paths:\n",
    "                all_path.append(i)\n",
    "                \n",
    "    return all_path\n",
    "\n",
    "Digraph.find_all_paths = find_all_paths        "
   ]
  },
  {
   "cell_type": "code",
   "execution_count": 12,
   "metadata": {},
   "outputs": [
    {
     "name": "stdout",
     "output_type": "stream",
     "text": [
      "{'Bannu': ['Qta'],\n",
      " 'Fsd': ['Mlt'],\n",
      " 'Grw': ['Lhr', 'Fsd'],\n",
      " 'Hyd': ['Khi'],\n",
      " 'Isd': ['Pwr', 'Grw', 'Lhr'],\n",
      " 'Khi': [],\n",
      " 'Lhr': ['Mlt'],\n",
      " 'Mianw': ['Mlt'],\n",
      " 'Mlt': ['Skr'],\n",
      " 'Pwr': ['Grw', 'Bannu', 'Mianw'],\n",
      " 'Qta': ['Skr'],\n",
      " 'Skr': ['Hyd']}\n"
     ]
    }
   ],
   "source": [
    "import pprint\n",
    "pprint.pprint(g.g)"
   ]
  },
  {
   "cell_type": "code",
   "execution_count": 13,
   "metadata": {},
   "outputs": [
    {
     "data": {
      "text/plain": [
       "[['Isd', 'Pwr', 'Grw', 'Lhr', 'Mlt', 'Skr', 'Hyd', 'Khi'],\n",
       " ['Isd', 'Pwr', 'Grw', 'Fsd', 'Mlt', 'Skr', 'Hyd', 'Khi'],\n",
       " ['Isd', 'Pwr', 'Bannu', 'Qta', 'Skr', 'Hyd', 'Khi'],\n",
       " ['Isd', 'Pwr', 'Mianw', 'Mlt', 'Skr', 'Hyd', 'Khi'],\n",
       " ['Isd', 'Grw', 'Lhr', 'Mlt', 'Skr', 'Hyd', 'Khi'],\n",
       " ['Isd', 'Grw', 'Fsd', 'Mlt', 'Skr', 'Hyd', 'Khi'],\n",
       " ['Isd', 'Lhr', 'Mlt', 'Skr', 'Hyd', 'Khi']]"
      ]
     },
     "execution_count": 13,
     "metadata": {},
     "output_type": "execute_result"
    }
   ],
   "source": [
    "g.find_all_paths('Isd','Khi')"
   ]
  },
  {
   "cell_type": "code",
   "execution_count": 14,
   "metadata": {},
   "outputs": [],
   "source": [
    "def shortest_path(self,src,dest,path=[]):\n",
    "    if src not in self.g or dest not in self.g:\n",
    "        raise ValueError(\"Source/Destination not found\")\n",
    "        \n",
    "    path = path + [src]\n",
    "    \n",
    "    if src == dest:\n",
    "        return path\n",
    "    \n",
    "    shortest = None\n",
    "    \n",
    "    for n in self.g[src]:\n",
    "        if n not in path:\n",
    "            new_path = self.shortest_path(n,dest,path)\n",
    "            if new_path:\n",
    "                if shortest is None or len(new_path) < len(shortest):\n",
    "                    shortest = new_path\n",
    "    return shortest\n",
    "\n",
    "Digraph.shortest_path = shortest_path"
   ]
  },
  {
   "cell_type": "code",
   "execution_count": 16,
   "metadata": {},
   "outputs": [
    {
     "data": {
      "text/plain": [
       "['Pwr', 'Bannu', 'Qta', 'Skr', 'Hyd', 'Khi']"
      ]
     },
     "execution_count": 16,
     "metadata": {},
     "output_type": "execute_result"
    }
   ],
   "source": [
    "g.shortest_path('Pwr','Khi')"
   ]
  },
  {
   "cell_type": "code",
   "execution_count": null,
   "metadata": {},
   "outputs": [],
   "source": []
  }
 ],
 "metadata": {
  "kernelspec": {
   "display_name": "Python 3",
   "language": "python",
   "name": "python3"
  },
  "language_info": {
   "codemirror_mode": {
    "name": "ipython",
    "version": 3
   },
   "file_extension": ".py",
   "mimetype": "text/x-python",
   "name": "python",
   "nbconvert_exporter": "python",
   "pygments_lexer": "ipython3",
   "version": "3.7.4"
  }
 },
 "nbformat": 4,
 "nbformat_minor": 2
}
