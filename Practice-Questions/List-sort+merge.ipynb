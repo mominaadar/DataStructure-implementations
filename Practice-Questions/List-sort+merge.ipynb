{
 "cells": [
  {
   "cell_type": "code",
   "execution_count": 56,
   "metadata": {},
   "outputs": [],
   "source": [
    "class Node:\n",
    "    def __init__(self, val=None):\n",
    "        self.val = val\n",
    "        self.next = None"
   ]
  },
  {
   "cell_type": "code",
   "execution_count": 57,
   "metadata": {},
   "outputs": [],
   "source": [
    "class LinkedList:\n",
    "    def __init__(self):\n",
    "        self.head = None"
   ]
  },
  {
   "cell_type": "code",
   "execution_count": 58,
   "metadata": {},
   "outputs": [],
   "source": [
    "def push(self, val):\n",
    "    new_node = Node(val)\n",
    "    \n",
    "    if self.head is None:\n",
    "        self.head = new_node\n",
    "        return \n",
    "    \n",
    "    temp = self.head\n",
    "    while temp.next is not None:\n",
    "        temp = temp.next\n",
    "        \n",
    "    temp.next = new_node\n",
    "    \n",
    "LinkedList.push = push"
   ]
  },
  {
   "cell_type": "code",
   "execution_count": 59,
   "metadata": {},
   "outputs": [],
   "source": [
    "def __str__(self):\n",
    "    ret_str = '['\n",
    "    temp = self.head\n",
    "    while temp:\n",
    "        ret_str += str(temp.val) + \", \"\n",
    "        temp = temp.next\n",
    "        \n",
    "    ret_str = ret_str.rstrip(', ')\n",
    "    ret_str = ret_str + ']'\n",
    "    return ret_str\n",
    "\n",
    "LinkedList.__str__ = __str__"
   ]
  },
  {
   "cell_type": "code",
   "execution_count": 60,
   "metadata": {},
   "outputs": [],
   "source": [
    "def length(self):\n",
    "    temp = self.head\n",
    "    count = 0\n",
    "    \n",
    "    while temp:\n",
    "        count += 1\n",
    "        temp = temp.next\n",
    "        \n",
    "    return count\n",
    "\n",
    "LinkedList.length = length"
   ]
  },
  {
   "cell_type": "code",
   "execution_count": 65,
   "metadata": {},
   "outputs": [
    {
     "name": "stdout",
     "output_type": "stream",
     "text": [
      "[5, 9, 12, 6]\n",
      "[22, 15, 19, 24, 1]\n"
     ]
    }
   ],
   "source": [
    "l = LinkedList()\n",
    "l.push(5)\n",
    "l.push(9)\n",
    "l.push(12)\n",
    "l.push(6)\n",
    "\n",
    "l2 = LinkedList()\n",
    "l2.push(22)\n",
    "l2.push(15)\n",
    "l2.push(19)\n",
    "l2.push(24)\n",
    "l2.push(1)\n",
    "\n",
    "print(l)\n",
    "print(l2)"
   ]
  },
  {
   "cell_type": "code",
   "execution_count": 66,
   "metadata": {},
   "outputs": [],
   "source": [
    "def sort_merge_list(self,l2):\n",
    "        \n",
    "    lst = []    \n",
    "\n",
    "    for i in range(self.length()):    #for sorting l\n",
    "        t1 = self.head\n",
    "        while t1.next is not None:\n",
    "            if t1.val > t1.next.val:\n",
    "                t1.next.val, t1.val = t1.val, t1.next.val\n",
    "            t1 = t1.next\n",
    "        \n",
    "    for j in range(l2.length()):    #for sorting l2\n",
    "        t2 = l2.head\n",
    "        while t2.next is not None:\n",
    "            if t2.val > t2.next.val:\n",
    "                t2.next.val, t2.val = t2.val, t2.next.val\n",
    "            t2 = t2.next\n",
    "        \n",
    "    temp1 = self.head\n",
    "    for i in range(self.length()):    #for swappping and appending l\n",
    "        temp2 = l2.head\n",
    "        \n",
    "        while temp2 is not None:\n",
    "            if temp1.val > temp2.val:\n",
    "                temp1.val, temp2.val = temp2.val, temp1.val \n",
    "            \n",
    "            temp2 = temp2.next\n",
    "        lst.append(temp1.val)\n",
    "        temp1 = temp1.next\n",
    "    \n",
    "    for j in range(l2.length()):    #for sorting l2 because it has been disturbed by the swapping\n",
    "        t2 = l2.head\n",
    "        while t2.next is not None:\n",
    "            if t2.val > t2.next.val:\n",
    "                t2.next.val, t2.val = t2.val, t2.next.val\n",
    "            t2 = t2.next\n",
    "    \n",
    "    t2 = l2.head\n",
    "    while t2 is not None:    #appending l2 with l\n",
    "        lst.append(t2.val)\n",
    "        t2 = t2.next\n",
    "    \n",
    "    return lst\n",
    "        \n",
    "LinkedList.sort_merge_list = sort_merge_list"
   ]
  },
  {
   "cell_type": "code",
   "execution_count": 67,
   "metadata": {},
   "outputs": [
    {
     "data": {
      "text/plain": [
       "[1, 5, 6, 9, 12, 15, 19, 22, 24]"
      ]
     },
     "execution_count": 67,
     "metadata": {},
     "output_type": "execute_result"
    }
   ],
   "source": [
    "l.sort_merge_list(l2)"
   ]
  },
  {
   "cell_type": "code",
   "execution_count": null,
   "metadata": {},
   "outputs": [],
   "source": []
  }
 ],
 "metadata": {
  "kernelspec": {
   "display_name": "Python 3",
   "language": "python",
   "name": "python3"
  },
  "language_info": {
   "codemirror_mode": {
    "name": "ipython",
    "version": 3
   },
   "file_extension": ".py",
   "mimetype": "text/x-python",
   "name": "python",
   "nbconvert_exporter": "python",
   "pygments_lexer": "ipython3",
   "version": "3.7.4"
  }
 },
 "nbformat": 4,
 "nbformat_minor": 2
}
